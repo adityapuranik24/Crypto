{
 "cells": [
  {
   "cell_type": "code",
   "execution_count": 2,
   "metadata": {},
   "outputs": [],
   "source": [
    "from kafka import KafkaProducer\n",
    "# from confluent_kafka import Producer\n",
    "from time import sleep\n",
    "from json import dumps\n",
    "import sys\n",
    "# sys.path.append('D:/Projects/Crypto/Scripts/API')\n",
    "sys.path.extend([\n",
    "    'D:/Projects/Crypto/Scripts/API'\n",
    "])\n",
    "import Exchanges_list as el"
   ]
  },
  {
   "cell_type": "code",
   "execution_count": 3,
   "metadata": {},
   "outputs": [
    {
     "name": "stdout",
     "output_type": "stream",
     "text": [
      "[{'name': 'Binance', 'png64': 'https://lcw.nyc3.cdn.digitaloceanspaces.com/production/exchanges/64/binance.png', 'png128': 'https://lcw.nyc3.cdn.digitaloceanspaces.com/production/exchanges/128/binance.png', 'webp64': 'https://lcw.nyc3.cdn.digitaloceanspaces.com/production/exchanges/64/binance.webp', 'webp128': 'https://lcw.nyc3.cdn.digitaloceanspaces.com/production/exchanges/128/binance.webp', 'centralized': True, 'usCompliant': True, 'code': 'binance', 'markets': 1122, 'volume': 126203.18303971422, 'bidTotal': 3104.934082556535, 'askTotal': 2689.309883223448, 'depth': 5794.243965779983, 'visitors': 0, 'volumePerVisitor': 0}, {'name': 'CoinDCX', 'png64': 'https://lcw.nyc3.cdn.digitaloceanspaces.com/production/exchanges/64/coindcx.png', 'png128': 'https://lcw.nyc3.cdn.digitaloceanspaces.com/production/exchanges/128/coindcx.png', 'webp64': 'https://lcw.nyc3.cdn.digitaloceanspaces.com/production/exchanges/64/coindcx.webp', 'webp128': 'https://lcw.nyc3.cdn.digitaloceanspaces.com/production/exchanges/128/coindcx.webp', 'centralized': True, 'code': 'coindcx', 'markets': 920, 'volume': 94149.62048716295, 'bidTotal': 1798.7891356615912, 'askTotal': 1575.4448324250286, 'depth': 3374.23396808662, 'visitors': 0, 'volumePerVisitor': 0}, {'name': 'Bybit', 'png64': 'https://lcw.nyc3.cdn.digitaloceanspaces.com/production/exchanges/64/bybit.png', 'png128': 'https://lcw.nyc3.cdn.digitaloceanspaces.com/production/exchanges/128/bybit.png', 'webp64': 'https://lcw.nyc3.cdn.digitaloceanspaces.com/production/exchanges/64/bybit.webp', 'webp128': 'https://lcw.nyc3.cdn.digitaloceanspaces.com/production/exchanges/128/bybit.webp', 'centralized': True, 'code': 'bybit', 'markets': 359, 'volume': 38783.15622939143, 'bidTotal': 238.45551043086306, 'askTotal': 426.7943893120802, 'depth': 665.2498997429433, 'visitors': 0, 'volumePerVisitor': 0}, {'name': 'OrangeX', 'png64': 'https://lcw.nyc3.cdn.digitaloceanspaces.com/production/exchanges/64/orangex.png', 'png128': 'https://lcw.nyc3.cdn.digitaloceanspaces.com/production/exchanges/128/orangex.png', 'webp64': 'https://lcw.nyc3.cdn.digitaloceanspaces.com/production/exchanges/64/orangex.webp', 'webp128': 'https://lcw.nyc3.cdn.digitaloceanspaces.com/production/exchanges/128/orangex.webp', 'centralized': True, 'code': 'orangex', 'markets': 193, 'volume': 30382.48625711917, 'bidTotal': 1133.7859488013698, 'askTotal': 1140.587870066454, 'depth': 2274.3738188678235, 'visitors': 0, 'volumePerVisitor': 0}, {'name': 'Huobi Global', 'png64': 'https://lcw.nyc3.cdn.digitaloceanspaces.com/production/exchanges/64/huobi.png', 'png128': 'https://lcw.nyc3.cdn.digitaloceanspaces.com/production/exchanges/128/huobi.png', 'webp64': 'https://lcw.nyc3.cdn.digitaloceanspaces.com/production/exchanges/64/huobi.webp', 'webp128': 'https://lcw.nyc3.cdn.digitaloceanspaces.com/production/exchanges/128/huobi.webp', 'centralized': True, 'code': 'huobi', 'markets': 658, 'volume': 28841.403645920564, 'bidTotal': 365.15648234522274, 'askTotal': 311.440022335236, 'depth': 676.5965046804588, 'visitors': 0, 'volumePerVisitor': 0}, {'name': 'WhiteBIT', 'png64': 'https://lcw.nyc3.cdn.digitaloceanspaces.com/production/exchanges/64/whitebit.png', 'png128': 'https://lcw.nyc3.cdn.digitaloceanspaces.com/production/exchanges/128/whitebit.png', 'webp64': 'https://lcw.nyc3.cdn.digitaloceanspaces.com/production/exchanges/64/whitebit.webp', 'webp128': 'https://lcw.nyc3.cdn.digitaloceanspaces.com/production/exchanges/128/whitebit.webp', 'centralized': True, 'code': 'whitebit', 'markets': 200, 'volume': 27184.14734463262, 'bidTotal': 1697.4430814059438, 'askTotal': 1579.9096196319754, 'depth': 3277.352701037919, 'visitors': 0, 'volumePerVisitor': 0}, {'name': 'Zedxion', 'png64': 'https://lcw.nyc3.cdn.digitaloceanspaces.com/production/exchanges/64/zedxion.png', 'png128': 'https://lcw.nyc3.cdn.digitaloceanspaces.com/production/exchanges/128/zedxion.png', 'webp64': 'https://lcw.nyc3.cdn.digitaloceanspaces.com/production/exchanges/64/zedxion.webp', 'webp128': 'https://lcw.nyc3.cdn.digitaloceanspaces.com/production/exchanges/128/zedxion.webp', 'centralized': True, 'code': 'zedxion', 'markets': 269, 'volume': 21591.96078227893, 'bidTotal': 823.4624483921491, 'askTotal': 954.8947263125128, 'depth': 1778.357174704662, 'visitors': 0, 'volumePerVisitor': 0}, {'name': 'Gate.io', 'png64': 'https://lcw.nyc3.cdn.digitaloceanspaces.com/production/exchanges/64/gate.png', 'png128': 'https://lcw.nyc3.cdn.digitaloceanspaces.com/production/exchanges/128/gate.png', 'webp64': 'https://lcw.nyc3.cdn.digitaloceanspaces.com/production/exchanges/64/gate.webp', 'webp128': 'https://lcw.nyc3.cdn.digitaloceanspaces.com/production/exchanges/128/gate.webp', 'centralized': True, 'code': 'gate', 'markets': 2876, 'volume': 21148.21278537099, 'bidTotal': 0, 'askTotal': 0, 'depth': 0, 'visitors': 0, 'volumePerVisitor': 0}, {'name': 'OKX', 'png64': 'https://lcw.nyc3.cdn.digitaloceanspaces.com/production/exchanges/64/okex.png', 'png128': 'https://lcw.nyc3.cdn.digitaloceanspaces.com/production/exchanges/128/okex.png', 'webp64': 'https://lcw.nyc3.cdn.digitaloceanspaces.com/production/exchanges/64/okex.webp', 'webp128': 'https://lcw.nyc3.cdn.digitaloceanspaces.com/production/exchanges/128/okex.webp', 'centralized': True, 'code': 'okex', 'markets': 341, 'volume': 20349.343706332696, 'bidTotal': 756.9639940947789, 'askTotal': 691.9371765914123, 'depth': 1448.901170686191, 'visitors': 0, 'volumePerVisitor': 0}, {'name': 'Coinbase', 'png64': 'https://lcw.nyc3.cdn.digitaloceanspaces.com/production/exchanges/64/coinbasepro.png', 'png128': 'https://lcw.nyc3.cdn.digitaloceanspaces.com/production/exchanges/128/coinbasepro.png', 'webp64': 'https://lcw.nyc3.cdn.digitaloceanspaces.com/production/exchanges/64/coinbasepro.webp', 'webp128': 'https://lcw.nyc3.cdn.digitaloceanspaces.com/production/exchanges/128/coinbasepro.webp', 'centralized': True, 'usCompliant': True, 'code': 'coinbasepro', 'markets': 398, 'volume': 19845.348922291505, 'bidTotal': 1562.6269425925823, 'askTotal': 1225.7855399127777, 'depth': 2788.41248250536, 'visitors': 0, 'volumePerVisitor': 0}]\n"
     ]
    }
   ],
   "source": [
    "data = el.exchanges()\n",
    "print(data)"
   ]
  },
  {
   "cell_type": "code",
   "execution_count": null,
   "metadata": {},
   "outputs": [],
   "source": [
    "#Creating custom Exception\n",
    "class APICallError(Exception):\n",
    "    \"\"\"Raised when there is an error during an API call\"\"\"\n",
    "    pass\n",
    "\n",
    "while True:\n",
    "    sleep(5)\n",
    "    try:\n",
    "        \n",
    "        # Fetch data from API\n",
    "        data = el.exchanges()\n",
    "        if 'error' in data:\n",
    "            raise APICallError(f\"API Error: {data['error']['description']}\")\n",
    "\n",
    "    except APICallError as api_err:\n",
    "        print(f\"API call failed: {api_err}\")\n",
    "\n",
    "    else:\n",
    "        producer = KafkaProducer(bootstrap_servers=['3.145.4.161:9092'],\n",
    "                                value_serializer=lambda x: dumps(x).encode('utf-8'))\n",
    "        print(producer.send('crypto', value=data))"
   ]
  },
  {
   "cell_type": "code",
   "execution_count": null,
   "metadata": {},
   "outputs": [],
   "source": [
    "[{'name': 'Binance', 'png64': 'https://lcw.nyc3.cdn.digitaloceanspaces.com/production/exchanges/64/binance.png', 'png128': 'https://lcw.nyc3.cdn.digitaloceanspaces.com/production/exchanges/128/binance.png', 'webp64': 'https://lcw.nyc3.cdn.digitaloceanspaces.com/production/exchanges/64/binance.webp', 'webp128': 'https://lcw.nyc3.cdn.digitaloceanspaces.com/production/exchanges/128/binance.webp', 'centralized': True, 'usCompliant': True, 'code': 'binance', 'markets': 1122, 'volume': 126203.18303971422, 'bidTotal': 3104.934082556535, 'askTotal': 2689.309883223448, 'depth': 5794.243965779983, 'visitors': 0, 'volumePerVisitor': 0}, {'name': 'CoinDCX', 'png64': 'https://lcw.nyc3.cdn.digitaloceanspaces.com/production/exchanges/64/coindcx.png', 'png128': 'https://lcw.nyc3.cdn.digitaloceanspaces.com/production/exchanges/128/coindcx.png', 'webp64': 'https://lcw.nyc3.cdn.digitaloceanspaces.com/production/exchanges/64/coindcx.webp', 'webp128': 'https://lcw.nyc3.cdn.digitaloceanspaces.com/production/exchanges/128/coindcx.webp', 'centralized': True, 'code': 'coindcx', 'markets': 920, 'volume': 94149.62048716295, 'bidTotal': 1798.7891356615912, 'askTotal': 1575.4448324250286, 'depth': 3374.23396808662, 'visitors': 0, 'volumePerVisitor': 0}, {'name': 'Bybit', 'png64': 'https://lcw.nyc3.cdn.digitaloceanspaces.com/production/exchanges/64/bybit.png', 'png128': 'https://lcw.nyc3.cdn.digitaloceanspaces.com/production/exchanges/128/bybit.png', 'webp64': 'https://lcw.nyc3.cdn.digitaloceanspaces.com/production/exchanges/64/bybit.webp', 'webp128': 'https://lcw.nyc3.cdn.digitaloceanspaces.com/production/exchanges/128/bybit.webp', 'centralized': True, 'code': 'bybit', 'markets': 359, 'volume': 38783.15622939143, 'bidTotal': 238.45551043086306, 'askTotal': 426.7943893120802, 'depth': 665.2498997429433, 'visitors': 0, 'volumePerVisitor': 0}, {'name': 'OrangeX', 'png64': 'https://lcw.nyc3.cdn.digitaloceanspaces.com/production/exchanges/64/orangex.png', 'png128': 'https://lcw.nyc3.cdn.digitaloceanspaces.com/production/exchanges/128/orangex.png', 'webp64': 'https://lcw.nyc3.cdn.digitaloceanspaces.com/production/exchanges/64/orangex.webp', 'webp128': 'https://lcw.nyc3.cdn.digitaloceanspaces.com/production/exchanges/128/orangex.webp', 'centralized': True, 'code': 'orangex', 'markets': 193, 'volume': 30382.48625711917, 'bidTotal': 1133.7859488013698, 'askTotal': 1140.587870066454, 'depth': 2274.3738188678235, 'visitors': 0, 'volumePerVisitor': 0}, {'name': 'Huobi Global', 'png64': 'https://lcw.nyc3.cdn.digitaloceanspaces.com/production/exchanges/64/huobi.png', 'png128': 'https://lcw.nyc3.cdn.digitaloceanspaces.com/production/exchanges/128/huobi.png', 'webp64': 'https://lcw.nyc3.cdn.digitaloceanspaces.com/production/exchanges/64/huobi.webp', 'webp128': 'https://lcw.nyc3.cdn.digitaloceanspaces.com/production/exchanges/128/huobi.webp', 'centralized': True, 'code': 'huobi', 'markets': 658, 'volume': 28841.403645920564, 'bidTotal': 365.15648234522274, 'askTotal': 311.440022335236, 'depth': 676.5965046804588, 'visitors': 0, 'volumePerVisitor': 0}, {'name': 'WhiteBIT', 'png64': 'https://lcw.nyc3.cdn.digitaloceanspaces.com/production/exchanges/64/whitebit.png', 'png128': 'https://lcw.nyc3.cdn.digitaloceanspaces.com/production/exchanges/128/whitebit.png', 'webp64': 'https://lcw.nyc3.cdn.digitaloceanspaces.com/production/exchanges/64/whitebit.webp', 'webp128': 'https://lcw.nyc3.cdn.digitaloceanspaces.com/production/exchanges/128/whitebit.webp', 'centralized': True, 'code': 'whitebit', 'markets': 200, 'volume': 27184.14734463262, 'bidTotal': 1697.4430814059438, 'askTotal': 1579.9096196319754, 'depth': 3277.352701037919, 'visitors': 0, 'volumePerVisitor': 0}, {'name': 'Zedxion', 'png64': 'https://lcw.nyc3.cdn.digitaloceanspaces.com/production/exchanges/64/zedxion.png', 'png128': 'https://lcw.nyc3.cdn.digitaloceanspaces.com/production/exchanges/128/zedxion.png', 'webp64': 'https://lcw.nyc3.cdn.digitaloceanspaces.com/production/exchanges/64/zedxion.webp', 'webp128': 'https://lcw.nyc3.cdn.digitaloceanspaces.com/production/exchanges/128/zedxion.webp', 'centralized': True, 'code': 'zedxion', 'markets': 269, 'volume': 21591.96078227893, 'bidTotal': 823.4624483921491, 'askTotal': 954.8947263125128, 'depth': 1778.357174704662, 'visitors': 0, 'volumePerVisitor': 0}, {'name': 'Gate.io', 'png64': 'https://lcw.nyc3.cdn.digitaloceanspaces.com/production/exchanges/64/gate.png', 'png128': 'https://lcw.nyc3.cdn.digitaloceanspaces.com/production/exchanges/128/gate.png', 'webp64': 'https://lcw.nyc3.cdn.digitaloceanspaces.com/production/exchanges/64/gate.webp', 'webp128': 'https://lcw.nyc3.cdn.digitaloceanspaces.com/production/exchanges/128/gate.webp', 'centralized': True, 'code': 'gate', 'markets': 2876, 'volume': 21148.21278537099, 'bidTotal': 0, 'askTotal': 0, 'depth': 0, 'visitors': 0, 'volumePerVisitor': 0}, {'name': 'OKX', 'png64': 'https://lcw.nyc3.cdn.digitaloceanspaces.com/production/exchanges/64/okex.png', 'png128': 'https://lcw.nyc3.cdn.digitaloceanspaces.com/production/exchanges/128/okex.png', 'webp64': 'https://lcw.nyc3.cdn.digitaloceanspaces.com/production/exchanges/64/okex.webp', 'webp128': 'https://lcw.nyc3.cdn.digitaloceanspaces.com/production/exchanges/128/okex.webp', 'centralized': True, 'code': 'okex', 'markets': 341, 'volume': 20349.343706332696, 'bidTotal': 756.9639940947789, 'askTotal': 691.9371765914123, 'depth': 1448.901170686191, 'visitors': 0, 'volumePerVisitor': 0}, {'name': 'Coinbase', 'png64': 'https://lcw.nyc3.cdn.digitaloceanspaces.com/production/exchanges/64/coinbasepro.png', 'png128': 'https://lcw.nyc3.cdn.digitaloceanspaces.com/production/exchanges/128/coinbasepro.png', 'webp64': 'https://lcw.nyc3.cdn.digitaloceanspaces.com/production/exchanges/64/coinbasepro.webp', 'webp128': 'https://lcw.nyc3.cdn.digitaloceanspaces.com/production/exchanges/128/coinbasepro.webp', 'centralized': True, 'usCompliant': True, 'code': 'coinbasepro', 'markets': 398, 'volume': 19845.348922291505, 'bidTotal': 1562.6269425925823, 'askTotal': 1225.7855399127777, 'depth': 2788.41248250536, 'visitors': 0, 'volumePerVisitor': 0}]"
   ]
  }
 ],
 "metadata": {
  "kernelspec": {
   "display_name": ".venv",
   "language": "python",
   "name": "python3"
  },
  "language_info": {
   "codemirror_mode": {
    "name": "ipython",
    "version": 3
   },
   "file_extension": ".py",
   "mimetype": "text/x-python",
   "name": "python",
   "nbconvert_exporter": "python",
   "pygments_lexer": "ipython3",
   "version": "3.9.11"
  }
 },
 "nbformat": 4,
 "nbformat_minor": 2
}
