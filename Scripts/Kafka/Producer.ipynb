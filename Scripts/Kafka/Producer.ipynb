{
 "cells": [
  {
   "cell_type": "code",
   "execution_count": 1,
   "metadata": {},
   "outputs": [],
   "source": [
    "from kafka import KafkaProducer\n",
    "# from confluent_kafka import Producer\n",
    "from time import sleep\n",
    "from json import dumps\n",
    "import sys\n",
    "# sys.path.append('D:/Projects/Crypto/Scripts/API')\n",
    "sys.path.extend([\n",
    "    'D:/Projects/Crypto/Scripts/API',\n",
    "    'D:/Projects/Crypto/Scripts/Calculations'\n",
    "])\n",
    "import platforms as pl\n",
    "import Exchanges_list as el\n",
    "import Current_Date_Time as dt"
   ]
  },
  {
   "cell_type": "code",
   "execution_count": 2,
   "metadata": {},
   "outputs": [
    {
     "name": "stdout",
     "output_type": "stream",
     "text": [
      "<class 'list'>\n"
     ]
    }
   ],
   "source": [
    "data = pl.coins_list()\n",
    "print(type(data))"
   ]
  },
  {
   "cell_type": "code",
   "execution_count": 8,
   "metadata": {},
   "outputs": [
    {
     "name": "stdout",
     "output_type": "stream",
     "text": [
      "['BTC', 'ETH', 'USDT']\n",
      "['BTC', 'ETH', 'USDT']\n"
     ]
    },
    {
     "ename": "KeyboardInterrupt",
     "evalue": "",
     "output_type": "error",
     "traceback": [
      "\u001b[1;31m---------------------------------------------------------------------------\u001b[0m",
      "\u001b[1;31mKeyboardInterrupt\u001b[0m                         Traceback (most recent call last)",
      "Cell \u001b[1;32mIn[8], line 49\u001b[0m\n\u001b[0;32m     47\u001b[0m \u001b[38;5;66;03m# print(\"Exchanges\")\u001b[39;00m\n\u001b[0;32m     48\u001b[0m flag \u001b[38;5;241m=\u001b[39m \u001b[38;5;241m0\u001b[39m\n\u001b[1;32m---> 49\u001b[0m \u001b[43msleep\u001b[49m\u001b[43m(\u001b[49m\u001b[38;5;241;43m2\u001b[39;49m\u001b[43m)\u001b[49m\n\u001b[0;32m     50\u001b[0m coins_list \u001b[38;5;241m=\u001b[39m []\n",
      "\u001b[1;31mKeyboardInterrupt\u001b[0m: "
     ]
    }
   ],
   "source": [
    "#Creating custom Exception\n",
    "class APICallError(Exception):\n",
    "    \"\"\"Raised when there is an error during an API call\"\"\"\n",
    "    pass\n",
    "flag = 0\n",
    "coins_list = []\n",
    "while True:\n",
    "    if flag ==0:\n",
    "        try:\n",
    "            \n",
    "            # Fetch data from API\n",
    "            data = pl.coins_list()\n",
    "            for i in range (0, len(data)):\n",
    "                coins_list.append(data[i]['code'])\n",
    "\n",
    "            if 'error' in data:\n",
    "                raise APICallError(f\"API Error: {data['error']['description']}\")\n",
    "\n",
    "        except APICallError as api_err:\n",
    "            print(f\"API call failed: {api_err}\")\n",
    "\n",
    "        else:\n",
    "            producer = KafkaProducer(bootstrap_servers=['18.217.211.255:9092'],\n",
    "                                    value_serializer=lambda x: dumps(x).encode('utf-8'))\n",
    "            producer.send('crypto', value=data)\n",
    "            # print(\"Coins\")\n",
    "        flag =1\n",
    "        sleep(3)\n",
    "    \n",
    "    else:\n",
    "        for coin in coins_list:\n",
    "            try:\n",
    "            # Fetch data from API\n",
    "                data = el.exchanges(coin)\n",
    "                if 'error' in data:\n",
    "                    raise APICallError(f\"API Error: {data['error']['description']}\")\n",
    "\n",
    "            except APICallError as api_err:\n",
    "                print(f\"API call failed: {api_err}\")\n",
    "\n",
    "            else:\n",
    "                producer = KafkaProducer(bootstrap_servers=['18.217.211.255:9092'],\n",
    "                                value_serializer=lambda x: dumps(x).encode('utf-8'))\n",
    "                producer.send('crypto', value=data)\n",
    "                flag = 0\n",
    "                sleep(2)\n",
    "                coins_list = []"
   ]
  },
  {
   "cell_type": "code",
   "execution_count": null,
   "metadata": {},
   "outputs": [],
   "source": []
  }
 ],
 "metadata": {
  "kernelspec": {
   "display_name": "Python 3",
   "language": "python",
   "name": "python3"
  },
  "language_info": {
   "codemirror_mode": {
    "name": "ipython",
    "version": 3
   },
   "file_extension": ".py",
   "mimetype": "text/x-python",
   "name": "python",
   "nbconvert_exporter": "python",
   "pygments_lexer": "ipython3",
   "version": "3.9.11"
  }
 },
 "nbformat": 4,
 "nbformat_minor": 2
}
