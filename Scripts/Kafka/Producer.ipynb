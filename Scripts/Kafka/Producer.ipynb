{
 "cells": [
  {
   "cell_type": "code",
   "execution_count": 5,
   "metadata": {},
   "outputs": [],
   "source": [
    "from kafka import KafkaProducer\n",
    "# from confluent_kafka import Producer\n",
    "from time import sleep\n",
    "from json import dumps\n",
    "import sys\n",
    "# sys.path.append('D:/Projects/Crypto/Scripts/API')\n",
    "sys.path.extend([\n",
    "    'D:/Projects/Crypto/Scripts/API',\n",
    "    'D:/Projects/Crypto/Scripts/Calculations'\n",
    "])\n",
    "import platforms as pl\n",
    "import Current_Date_Time as dt"
   ]
  },
  {
   "cell_type": "code",
   "execution_count": 2,
   "metadata": {},
   "outputs": [
    {
     "name": "stdout",
     "output_type": "stream",
     "text": [
      "<class 'list'>\n"
     ]
    }
   ],
   "source": [
    "data = pl.coins_list()\n",
    "print(type(data))"
   ]
  },
  {
   "cell_type": "code",
   "execution_count": 6,
   "metadata": {},
   "outputs": [
    {
     "name": "stdout",
     "output_type": "stream",
     "text": [
      "<kafka.producer.future.FutureRecordMetadata object at 0x0000025DB86CDCA0>\n",
      "<kafka.producer.future.FutureRecordMetadata object at 0x0000025DB870BAF0>\n",
      "<kafka.producer.future.FutureRecordMetadata object at 0x0000025DB86FBDF0>\n",
      "<kafka.producer.future.FutureRecordMetadata object at 0x0000025DB86CF7F0>\n",
      "<kafka.producer.future.FutureRecordMetadata object at 0x0000025DB86E7B50>\n",
      "<kafka.producer.future.FutureRecordMetadata object at 0x0000025DB86D1AF0>\n",
      "<kafka.producer.future.FutureRecordMetadata object at 0x0000025DB873E610>\n",
      "API call failed: API Error: Server, while acting as a gateway or proxy, received an invalid response from an inbound server it accessed while attempting to fulfill the request.\n",
      "<kafka.producer.future.FutureRecordMetadata object at 0x0000025DB86FBB20>\n",
      "<kafka.producer.future.FutureRecordMetadata object at 0x0000025DB86A2C10>\n",
      "<kafka.producer.future.FutureRecordMetadata object at 0x0000025DB867F490>\n",
      "<kafka.producer.future.FutureRecordMetadata object at 0x0000025DB86C6A90>\n",
      "<kafka.producer.future.FutureRecordMetadata object at 0x0000025DB868E430>\n",
      "<kafka.producer.future.FutureRecordMetadata object at 0x0000025DB86D8100>\n",
      "API call failed: API Error: Server, while acting as a gateway or proxy, received an invalid response from an inbound server it accessed while attempting to fulfill the request.\n",
      "<kafka.producer.future.FutureRecordMetadata object at 0x0000025DB869E2E0>\n",
      "<kafka.producer.future.FutureRecordMetadata object at 0x0000025DB87530A0>\n"
     ]
    },
    {
     "ename": "KeyboardInterrupt",
     "evalue": "",
     "output_type": "error",
     "traceback": [
      "\u001b[1;31m---------------------------------------------------------------------------\u001b[0m",
      "\u001b[1;31mKeyboardInterrupt\u001b[0m                         Traceback (most recent call last)",
      "Cell \u001b[1;32mIn[6], line 7\u001b[0m\n\u001b[0;32m      4\u001b[0m     \u001b[38;5;28;01mpass\u001b[39;00m\n\u001b[0;32m      6\u001b[0m \u001b[38;5;28;01mwhile\u001b[39;00m \u001b[38;5;28;01mTrue\u001b[39;00m:\n\u001b[1;32m----> 7\u001b[0m     \u001b[43msleep\u001b[49m\u001b[43m(\u001b[49m\u001b[38;5;241;43m20\u001b[39;49m\u001b[43m)\u001b[49m\n\u001b[0;32m      8\u001b[0m     \u001b[38;5;28;01mtry\u001b[39;00m:\n\u001b[0;32m      9\u001b[0m         \n\u001b[0;32m     10\u001b[0m         \u001b[38;5;66;03m# Fetch data from API\u001b[39;00m\n\u001b[0;32m     11\u001b[0m         data \u001b[38;5;241m=\u001b[39m pl\u001b[38;5;241m.\u001b[39mcoins_list()\n",
      "\u001b[1;31mKeyboardInterrupt\u001b[0m: "
     ]
    }
   ],
   "source": [
    "#Creating custom Exception\n",
    "class APICallError(Exception):\n",
    "    \"\"\"Raised when there is an error during an API call\"\"\"\n",
    "    pass\n",
    "\n",
    "while True:\n",
    "    sleep(20)\n",
    "    try:\n",
    "        \n",
    "        # Fetch data from API\n",
    "        data = pl.coins_list()\n",
    "        if 'error' in data:\n",
    "            raise APICallError(f\"API Error: {data['error']['description']}\")\n",
    "\n",
    "    except APICallError as api_err:\n",
    "        print(f\"API call failed: {api_err}\")\n",
    "\n",
    "    else:\n",
    "        producer = KafkaProducer(bootstrap_servers=['18.217.211.255:9092'],\n",
    "                                value_serializer=lambda x: dumps(x).encode('utf-8'))\n",
    "        print(producer.send('crypto', value=data))"
   ]
  },
  {
   "cell_type": "code",
   "execution_count": 4,
   "metadata": {},
   "outputs": [],
   "source": [
    "producer = KafkaProducer(bootstrap_servers=['18.217.211.255:9092'],\n",
    "                                value_serializer=lambda x: dumps(x).encode('utf-8'))"
   ]
  },
  {
   "cell_type": "code",
   "execution_count": 5,
   "metadata": {},
   "outputs": [],
   "source": [
    "producer.flush()"
   ]
  },
  {
   "cell_type": "code",
   "execution_count": null,
   "metadata": {},
   "outputs": [],
   "source": []
  }
 ],
 "metadata": {
  "kernelspec": {
   "display_name": "Python 3",
   "language": "python",
   "name": "python3"
  },
  "language_info": {
   "codemirror_mode": {
    "name": "ipython",
    "version": 3
   },
   "file_extension": ".py",
   "mimetype": "text/x-python",
   "name": "python",
   "nbconvert_exporter": "python",
   "pygments_lexer": "ipython3",
   "version": "3.9.11"
  }
 },
 "nbformat": 4,
 "nbformat_minor": 2
}
