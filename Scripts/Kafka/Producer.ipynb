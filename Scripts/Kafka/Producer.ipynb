{
 "cells": [
  {
   "cell_type": "code",
   "execution_count": 3,
   "metadata": {},
   "outputs": [],
   "source": [
    "import pandas as pd\n",
    "from kafka import KafkaProducer\n",
    "from time import sleep\n",
    "from json import dumps\n",
    "import sys\n",
    "sys.path.append('D:/Projects/Crypto/Scripts/API')\n",
    "import CoinsInfo as ce"
   ]
  },
  {
   "cell_type": "code",
   "execution_count": 10,
   "metadata": {},
   "outputs": [
    {
     "name": "stdout",
     "output_type": "stream",
     "text": [
      "{'name': 'Bitcoin', 'symbol': '₿', 'rank': 1, 'age': 5624, 'color': '#fa9e32', 'png32': 'https://lcw.nyc3.cdn.digitaloceanspaces.com/production/currencies/32/btc.png', 'png64': 'https://lcw.nyc3.cdn.digitaloceanspaces.com/production/currencies/64/btc.png', 'webp32': 'https://lcw.nyc3.cdn.digitaloceanspaces.com/production/currencies/32/btc.webp', 'webp64': 'https://lcw.nyc3.cdn.digitaloceanspaces.com/production/currencies/64/btc.webp', 'exchanges': 195, 'markets': 2978, 'pairs': 893, 'categories': [], 'allTimeHighUSD': 73781.24185982272, 'circulatingSupply': 19704318, 'totalSupply': 19704318, 'maxSupply': 21000000, 'links': {'website': 'https://bitcoin.org', 'whitepaper': 'https://bitcoin.org/bitcoin.pdf', 'twitter': None, 'reddit': 'https://reddit.com/r/bitcoin', 'telegram': None, 'discord': None, 'medium': None, 'instagram': None, 'tiktok': None, 'youtube': None, 'linkedin': None, 'twitch': None, 'spotify': None, 'naver': None, 'wechat': None, 'soundcloud': None}, 'rate': 68602.08860371969, 'volume': 25890437409, 'cap': 1351757369311, 'liquidity': 1315743138, 'delta': {'hour': 1.0025, 'day': 0.9855, 'week': 0.9809, 'month': 1.0783, 'quarter': 1.121, 'year': 2.4819}}\n"
     ]
    }
   ],
   "source": [
    "data = ce.coin_info(0)"
   ]
  },
  {
   "cell_type": "code",
   "execution_count": 4,
   "metadata": {},
   "outputs": [
    {
     "name": "stdout",
     "output_type": "stream",
     "text": [
      "{'name': 'Bitcoin', 'symbol': '₿', 'rank': 1, 'age': 5632, 'color': '#fa9e32', 'png32': 'https://lcw.nyc3.cdn.digitaloceanspaces.com/production/currencies/32/btc.png', 'png64': 'https://lcw.nyc3.cdn.digitaloceanspaces.com/production/currencies/64/btc.png', 'webp32': 'https://lcw.nyc3.cdn.digitaloceanspaces.com/production/currencies/32/btc.webp', 'webp64': 'https://lcw.nyc3.cdn.digitaloceanspaces.com/production/currencies/64/btc.webp', 'exchanges': 194, 'markets': 3040, 'pairs': 904, 'categories': [], 'allTimeHighUSD': 73781.24185982272, 'circulatingSupply': 19707975, 'totalSupply': 19707975, 'maxSupply': 21000000, 'links': {'website': 'https://bitcoin.org', 'whitepaper': 'https://bitcoin.org/bitcoin.pdf', 'twitter': None, 'reddit': 'https://reddit.com/r/bitcoin', 'telegram': None, 'discord': None, 'medium': None, 'instagram': None, 'tiktok': None, 'youtube': None, 'linkedin': None, 'twitch': None, 'spotify': None, 'naver': None, 'wechat': None, 'soundcloud': None}, 'rate': 71341.37445705503, 'volume': 26661887645, 'cap': 1405994024265, 'liquidity': 1413637865, 'delta': {'hour': 1.0052, 'day': 1.0145, 'week': 1.0593, 'month': 1.1279, 'quarter': 1.0546, 'year': 2.6237}}\n",
      "{'name': 'Bitcoin', 'symbol': '₿', 'rank': 1, 'age': 5632, 'color': '#fa9e32', 'png32': 'https://lcw.nyc3.cdn.digitaloceanspaces.com/production/currencies/32/btc.png', 'png64': 'https://lcw.nyc3.cdn.digitaloceanspaces.com/production/currencies/64/btc.png', 'webp32': 'https://lcw.nyc3.cdn.digitaloceanspaces.com/production/currencies/32/btc.webp', 'webp64': 'https://lcw.nyc3.cdn.digitaloceanspaces.com/production/currencies/64/btc.webp', 'exchanges': 194, 'markets': 3040, 'pairs': 904, 'categories': [], 'allTimeHighUSD': 73781.24185982272, 'circulatingSupply': 19707975, 'totalSupply': 19707975, 'maxSupply': 21000000, 'links': {'website': 'https://bitcoin.org', 'whitepaper': 'https://bitcoin.org/bitcoin.pdf', 'twitter': None, 'reddit': 'https://reddit.com/r/bitcoin', 'telegram': None, 'discord': None, 'medium': None, 'instagram': None, 'tiktok': None, 'youtube': None, 'linkedin': None, 'twitch': None, 'spotify': None, 'naver': None, 'wechat': None, 'soundcloud': None}, 'rate': 71347.72376039621, 'volume': 26661407967, 'cap': 1406119156176, 'liquidity': 1422999882, 'delta': {'hour': 1.0053, 'day': 1.0146, 'week': 1.0594, 'month': 1.128, 'quarter': 1.0547, 'year': 2.624}}\n",
      "{'name': 'Bitcoin', 'symbol': '₿', 'rank': 1, 'age': 5632, 'color': '#fa9e32', 'png32': 'https://lcw.nyc3.cdn.digitaloceanspaces.com/production/currencies/32/btc.png', 'png64': 'https://lcw.nyc3.cdn.digitaloceanspaces.com/production/currencies/64/btc.png', 'webp32': 'https://lcw.nyc3.cdn.digitaloceanspaces.com/production/currencies/32/btc.webp', 'webp64': 'https://lcw.nyc3.cdn.digitaloceanspaces.com/production/currencies/64/btc.webp', 'exchanges': 194, 'markets': 3040, 'pairs': 904, 'categories': [], 'allTimeHighUSD': 73781.24185982272, 'circulatingSupply': 19707975, 'totalSupply': 19707975, 'maxSupply': 21000000, 'links': {'website': 'https://bitcoin.org', 'whitepaper': 'https://bitcoin.org/bitcoin.pdf', 'twitter': None, 'reddit': 'https://reddit.com/r/bitcoin', 'telegram': None, 'discord': None, 'medium': None, 'instagram': None, 'tiktok': None, 'youtube': None, 'linkedin': None, 'twitch': None, 'spotify': None, 'naver': None, 'wechat': None, 'soundcloud': None}, 'rate': 71343.5984709128, 'volume': 26660246958, 'cap': 1406037855074, 'liquidity': 1436409825, 'delta': {'hour': 1.0053, 'day': 1.0145, 'week': 1.0594, 'month': 1.128, 'quarter': 1.0546, 'year': 2.6238}}\n",
      "{'name': 'Bitcoin', 'symbol': '₿', 'rank': 1, 'age': 5632, 'color': '#fa9e32', 'png32': 'https://lcw.nyc3.cdn.digitaloceanspaces.com/production/currencies/32/btc.png', 'png64': 'https://lcw.nyc3.cdn.digitaloceanspaces.com/production/currencies/64/btc.png', 'webp32': 'https://lcw.nyc3.cdn.digitaloceanspaces.com/production/currencies/32/btc.webp', 'webp64': 'https://lcw.nyc3.cdn.digitaloceanspaces.com/production/currencies/64/btc.webp', 'exchanges': 194, 'markets': 3040, 'pairs': 904, 'categories': [], 'allTimeHighUSD': 73781.24185982272, 'circulatingSupply': 19707975, 'totalSupply': 19707975, 'maxSupply': 21000000, 'links': {'website': 'https://bitcoin.org', 'whitepaper': 'https://bitcoin.org/bitcoin.pdf', 'twitter': None, 'reddit': 'https://reddit.com/r/bitcoin', 'telegram': None, 'discord': None, 'medium': None, 'instagram': None, 'tiktok': None, 'youtube': None, 'linkedin': None, 'twitch': None, 'spotify': None, 'naver': None, 'wechat': None, 'soundcloud': None}, 'rate': 71342.58849654115, 'volume': 26657788215, 'cap': 1406017950525, 'liquidity': 1438695690, 'delta': {'hour': 1.0053, 'day': 1.0145, 'week': 1.0594, 'month': 1.128, 'quarter': 1.0546, 'year': 2.6238}}\n"
     ]
    }
   ],
   "source": [
    "while True:\n",
    "    sleep(20)\n",
    "    data = ce.coin_info(0)\n",
    "    producer = KafkaProducer(bootstrap_servers=['52.14.28.124:9092'],\n",
    "                            value_serializer=lambda x: dumps(x).encode('utf-8'))\n",
    "\n",
    "    producer.send('crypto', value=data)"
   ]
  },
  {
   "cell_type": "code",
   "execution_count": null,
   "metadata": {},
   "outputs": [],
   "source": []
  }
 ],
 "metadata": {
  "kernelspec": {
   "display_name": "Python 3",
   "language": "python",
   "name": "python3"
  },
  "language_info": {
   "codemirror_mode": {
    "name": "ipython",
    "version": 3
   },
   "file_extension": ".py",
   "mimetype": "text/x-python",
   "name": "python",
   "nbconvert_exporter": "python",
   "pygments_lexer": "ipython3",
   "version": "3.9.13"
  }
 },
 "nbformat": 4,
 "nbformat_minor": 2
}
