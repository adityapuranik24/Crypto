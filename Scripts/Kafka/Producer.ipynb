{
 "cells": [
  {
   "cell_type": "code",
   "execution_count": 1,
   "metadata": {},
   "outputs": [],
   "source": [
    "from kafka import KafkaProducer\n",
    "from time import sleep\n",
    "from json import dumps\n",
    "import sys\n",
    "# sys.path.append('D:/Projects/Crypto/Scripts/API')\n",
    "sys.path.extend([\n",
    "    'D:/Projects/Crypto/Scripts/API'\n",
    "])\n",
    "import CoinsInfo as ce"
   ]
  },
  {
   "cell_type": "code",
   "execution_count": 2,
   "metadata": {},
   "outputs": [
    {
     "name": "stdout",
     "output_type": "stream",
     "text": [
      "{'name': 'Bitcoin', 'symbol': '₿', 'rank': 1, 'age': 5641, 'color': '#fa9e32', 'png32': 'https://lcw.nyc3.cdn.digitaloceanspaces.com/production/currencies/32/btc.png', 'png64': 'https://lcw.nyc3.cdn.digitaloceanspaces.com/production/currencies/64/btc.png', 'webp32': 'https://lcw.nyc3.cdn.digitaloceanspaces.com/production/currencies/32/btc.webp', 'webp64': 'https://lcw.nyc3.cdn.digitaloceanspaces.com/production/currencies/64/btc.webp', 'exchanges': 194, 'markets': 2969, 'pairs': 880, 'categories': [], 'allTimeHighUSD': 73781.24185982272, 'circulatingSupply': 19710859, 'totalSupply': 19710859, 'maxSupply': 21000000, 'links': {'website': 'https://bitcoin.org', 'whitepaper': 'https://bitcoin.org/bitcoin.pdf', 'twitter': None, 'reddit': 'https://reddit.com/r/bitcoin', 'telegram': None, 'discord': None, 'medium': None, 'instagram': None, 'tiktok': None, 'youtube': None, 'linkedin': None, 'twitch': None, 'spotify': None, 'naver': None, 'wechat': None, 'soundcloud': None}, 'rate': 65650.78702708364, 'volume': 20944990649, 'cap': 1294033406329, 'liquidity': 1333392893, 'delta': {'hour': 0.9983, 'day': 0.9817, 'week': 0.93, 'month': 1.0105, 'quarter': 0.9654, 'year': 2.6278}}\n"
     ]
    }
   ],
   "source": [
    "data = ce.coin_info(0)\n",
    "# data['name']"
   ]
  },
  {
   "cell_type": "code",
   "execution_count": 3,
   "metadata": {},
   "outputs": [],
   "source": [
    "while True:\n",
    "    sleep(20)\n",
    "    data = ce.coin_info(0)\n",
    "    producer = KafkaProducer(bootstrap_servers=['52.14.28.124:9092'],\n",
    "                            value_serializer=lambda x: dumps(x).encode('utf-8'))\n",
    "\n",
    "    producer.send('crypto', value=data)"
   ]
  },
  {
   "cell_type": "code",
   "execution_count": 3,
   "metadata": {},
   "outputs": [
    {
     "name": "stdout",
     "output_type": "stream",
     "text": [
      "{'name': 'Bitcoin', 'symbol': '₿', 'rank': 1, 'age': 5641, 'color': '#fa9e32', 'png32': 'https://lcw.nyc3.cdn.digitaloceanspaces.com/production/currencies/32/btc.png', 'png64': 'https://lcw.nyc3.cdn.digitaloceanspaces.com/production/currencies/64/btc.png', 'webp32': 'https://lcw.nyc3.cdn.digitaloceanspaces.com/production/currencies/32/btc.webp', 'webp64': 'https://lcw.nyc3.cdn.digitaloceanspaces.com/production/currencies/64/btc.webp', 'exchanges': 194, 'markets': 2969, 'pairs': 880, 'categories': [], 'allTimeHighUSD': 73781.24185982272, 'circulatingSupply': 19710859, 'totalSupply': 19710859, 'maxSupply': 21000000, 'links': {'website': 'https://bitcoin.org', 'whitepaper': 'https://bitcoin.org/bitcoin.pdf', 'twitter': None, 'reddit': 'https://reddit.com/r/bitcoin', 'telegram': None, 'discord': None, 'medium': None, 'instagram': None, 'tiktok': None, 'youtube': None, 'linkedin': None, 'twitch': None, 'spotify': None, 'naver': None, 'wechat': None, 'soundcloud': None}, 'rate': 65649.40967458306, 'volume': 20935513243, 'cap': 1294006257528, 'liquidity': 1311730743, 'delta': {'hour': 0.9983, 'day': 0.9817, 'week': 0.9299, 'month': 1.0105, 'quarter': 0.9653, 'year': 2.6278}}\n",
      "<kafka.producer.future.FutureRecordMetadata object at 0x0000025BB55B2940>\n",
      "{'name': 'Bitcoin', 'symbol': '₿', 'rank': 1, 'age': 5641, 'color': '#fa9e32', 'png32': 'https://lcw.nyc3.cdn.digitaloceanspaces.com/production/currencies/32/btc.png', 'png64': 'https://lcw.nyc3.cdn.digitaloceanspaces.com/production/currencies/64/btc.png', 'webp32': 'https://lcw.nyc3.cdn.digitaloceanspaces.com/production/currencies/32/btc.webp', 'webp64': 'https://lcw.nyc3.cdn.digitaloceanspaces.com/production/currencies/64/btc.webp', 'exchanges': 194, 'markets': 2969, 'pairs': 880, 'categories': [], 'allTimeHighUSD': 73781.24185982272, 'circulatingSupply': 19710859, 'totalSupply': 19710859, 'maxSupply': 21000000, 'links': {'website': 'https://bitcoin.org', 'whitepaper': 'https://bitcoin.org/bitcoin.pdf', 'twitter': None, 'reddit': 'https://reddit.com/r/bitcoin', 'telegram': None, 'discord': None, 'medium': None, 'instagram': None, 'tiktok': None, 'youtube': None, 'linkedin': None, 'twitch': None, 'spotify': None, 'naver': None, 'wechat': None, 'soundcloud': None}, 'rate': 65676.64480299926, 'volume': 20958120828, 'cap': 1294543085305, 'liquidity': 1303426999, 'delta': {'hour': 0.9987, 'day': 0.9821, 'week': 0.9303, 'month': 1.0109, 'quarter': 0.9657, 'year': 2.6289}}\n",
      "<kafka.producer.future.FutureRecordMetadata object at 0x0000025BB557C2E0>\n",
      "{'name': 'Bitcoin', 'symbol': '₿', 'rank': 1, 'age': 5641, 'color': '#fa9e32', 'png32': 'https://lcw.nyc3.cdn.digitaloceanspaces.com/production/currencies/32/btc.png', 'png64': 'https://lcw.nyc3.cdn.digitaloceanspaces.com/production/currencies/64/btc.png', 'webp32': 'https://lcw.nyc3.cdn.digitaloceanspaces.com/production/currencies/32/btc.webp', 'webp64': 'https://lcw.nyc3.cdn.digitaloceanspaces.com/production/currencies/64/btc.webp', 'exchanges': 194, 'markets': 2969, 'pairs': 880, 'categories': [], 'allTimeHighUSD': 73781.24185982272, 'circulatingSupply': 19710859, 'totalSupply': 19710859, 'maxSupply': 21000000, 'links': {'website': 'https://bitcoin.org', 'whitepaper': 'https://bitcoin.org/bitcoin.pdf', 'twitter': None, 'reddit': 'https://reddit.com/r/bitcoin', 'telegram': None, 'discord': None, 'medium': None, 'instagram': None, 'tiktok': None, 'youtube': None, 'linkedin': None, 'twitch': None, 'spotify': None, 'naver': None, 'wechat': None, 'soundcloud': None}, 'rate': 65687.5227121768, 'volume': 20959503018, 'cap': 1294757498239, 'liquidity': 1294229013, 'delta': {'hour': 0.9988, 'day': 0.9823, 'week': 0.9305, 'month': 1.0111, 'quarter': 0.9659, 'year': 2.6293}}\n",
      "<kafka.producer.future.FutureRecordMetadata object at 0x0000025BB55D4100>\n",
      "{'name': 'Bitcoin', 'symbol': '₿', 'rank': 1, 'age': 5641, 'color': '#fa9e32', 'png32': 'https://lcw.nyc3.cdn.digitaloceanspaces.com/production/currencies/32/btc.png', 'png64': 'https://lcw.nyc3.cdn.digitaloceanspaces.com/production/currencies/64/btc.png', 'webp32': 'https://lcw.nyc3.cdn.digitaloceanspaces.com/production/currencies/32/btc.webp', 'webp64': 'https://lcw.nyc3.cdn.digitaloceanspaces.com/production/currencies/64/btc.webp', 'exchanges': 194, 'markets': 2969, 'pairs': 880, 'categories': [], 'allTimeHighUSD': 73781.24185982272, 'circulatingSupply': 19710859, 'totalSupply': 19710859, 'maxSupply': 21000000, 'links': {'website': 'https://bitcoin.org', 'whitepaper': 'https://bitcoin.org/bitcoin.pdf', 'twitter': None, 'reddit': 'https://reddit.com/r/bitcoin', 'telegram': None, 'discord': None, 'medium': None, 'instagram': None, 'tiktok': None, 'youtube': None, 'linkedin': None, 'twitch': None, 'spotify': None, 'naver': None, 'wechat': None, 'soundcloud': None}, 'rate': 65692.17834899091, 'volume': 20960028282, 'cap': 1294849264839, 'liquidity': 1301667953, 'delta': {'hour': 0.9989, 'day': 0.9823, 'week': 0.9305, 'month': 1.0111, 'quarter': 0.966, 'year': 2.6295}}\n",
      "<kafka.producer.future.FutureRecordMetadata object at 0x0000025BB559E280>\n",
      "{'name': 'Bitcoin', 'symbol': '₿', 'rank': 1, 'age': 5641, 'color': '#fa9e32', 'png32': 'https://lcw.nyc3.cdn.digitaloceanspaces.com/production/currencies/32/btc.png', 'png64': 'https://lcw.nyc3.cdn.digitaloceanspaces.com/production/currencies/64/btc.png', 'webp32': 'https://lcw.nyc3.cdn.digitaloceanspaces.com/production/currencies/32/btc.webp', 'webp64': 'https://lcw.nyc3.cdn.digitaloceanspaces.com/production/currencies/64/btc.webp', 'exchanges': 194, 'markets': 2969, 'pairs': 880, 'categories': [], 'allTimeHighUSD': 73781.24185982272, 'circulatingSupply': 19710859, 'totalSupply': 19710859, 'maxSupply': 21000000, 'links': {'website': 'https://bitcoin.org', 'whitepaper': 'https://bitcoin.org/bitcoin.pdf', 'twitter': None, 'reddit': 'https://reddit.com/r/bitcoin', 'telegram': None, 'discord': None, 'medium': None, 'instagram': None, 'tiktok': None, 'youtube': None, 'linkedin': None, 'twitch': None, 'spotify': None, 'naver': None, 'wechat': None, 'soundcloud': None}, 'rate': 65730.74151951005, 'volume': 20975759274, 'cap': 1295609378056, 'liquidity': 1313066570, 'delta': {'hour': 0.9995, 'day': 0.9829, 'week': 0.9311, 'month': 1.0117, 'quarter': 0.9665, 'year': 2.631}}\n",
      "<kafka.producer.future.FutureRecordMetadata object at 0x0000025BB55DF190>\n",
      "{'name': 'Bitcoin', 'symbol': '₿', 'rank': 1, 'age': 5641, 'color': '#fa9e32', 'png32': 'https://lcw.nyc3.cdn.digitaloceanspaces.com/production/currencies/32/btc.png', 'png64': 'https://lcw.nyc3.cdn.digitaloceanspaces.com/production/currencies/64/btc.png', 'webp32': 'https://lcw.nyc3.cdn.digitaloceanspaces.com/production/currencies/32/btc.webp', 'webp64': 'https://lcw.nyc3.cdn.digitaloceanspaces.com/production/currencies/64/btc.webp', 'exchanges': 194, 'markets': 2969, 'pairs': 880, 'categories': [], 'allTimeHighUSD': 73781.24185982272, 'circulatingSupply': 19710859, 'totalSupply': 19710859, 'maxSupply': 21000000, 'links': {'website': 'https://bitcoin.org', 'whitepaper': 'https://bitcoin.org/bitcoin.pdf', 'twitter': None, 'reddit': 'https://reddit.com/r/bitcoin', 'telegram': None, 'discord': None, 'medium': None, 'instagram': None, 'tiktok': None, 'youtube': None, 'linkedin': None, 'twitch': None, 'spotify': None, 'naver': None, 'wechat': None, 'soundcloud': None}, 'rate': 65739.9306683747, 'volume': 20973983031, 'cap': 1295790504074, 'liquidity': 1311123459, 'delta': {'hour': 1.0024, 'day': 0.9834, 'week': 0.9306, 'month': 1.0119, 'quarter': 0.9661, 'year': 2.632}}\n",
      "<kafka.producer.future.FutureRecordMetadata object at 0x0000025BB559EF10>\n",
      "{'name': 'Bitcoin', 'symbol': '₿', 'rank': 1, 'age': 5641, 'color': '#fa9e32', 'png32': 'https://lcw.nyc3.cdn.digitaloceanspaces.com/production/currencies/32/btc.png', 'png64': 'https://lcw.nyc3.cdn.digitaloceanspaces.com/production/currencies/64/btc.png', 'webp32': 'https://lcw.nyc3.cdn.digitaloceanspaces.com/production/currencies/32/btc.webp', 'webp64': 'https://lcw.nyc3.cdn.digitaloceanspaces.com/production/currencies/64/btc.webp', 'exchanges': 194, 'markets': 2969, 'pairs': 880, 'categories': [], 'allTimeHighUSD': 73781.24185982272, 'circulatingSupply': 19710859, 'totalSupply': 19710859, 'maxSupply': 21000000, 'links': {'website': 'https://bitcoin.org', 'whitepaper': 'https://bitcoin.org/bitcoin.pdf', 'twitter': None, 'reddit': 'https://reddit.com/r/bitcoin', 'telegram': None, 'discord': None, 'medium': None, 'instagram': None, 'tiktok': None, 'youtube': None, 'linkedin': None, 'twitch': None, 'spotify': None, 'naver': None, 'wechat': None, 'soundcloud': None}, 'rate': 65782.37779219857, 'volume': 20985452891, 'cap': 1296627173346, 'liquidity': 1309954763, 'delta': {'hour': 1.0031, 'day': 0.984, 'week': 0.9312, 'month': 1.0126, 'quarter': 0.9667, 'year': 2.6337}}\n",
      "<kafka.producer.future.FutureRecordMetadata object at 0x0000025BB55D4B80>\n",
      "{'name': 'Bitcoin', 'symbol': '₿', 'rank': 1, 'age': 5641, 'color': '#fa9e32', 'png32': 'https://lcw.nyc3.cdn.digitaloceanspaces.com/production/currencies/32/btc.png', 'png64': 'https://lcw.nyc3.cdn.digitaloceanspaces.com/production/currencies/64/btc.png', 'webp32': 'https://lcw.nyc3.cdn.digitaloceanspaces.com/production/currencies/32/btc.webp', 'webp64': 'https://lcw.nyc3.cdn.digitaloceanspaces.com/production/currencies/64/btc.webp', 'exchanges': 194, 'markets': 2969, 'pairs': 880, 'categories': [], 'allTimeHighUSD': 73781.24185982272, 'circulatingSupply': 19710859, 'totalSupply': 19710859, 'maxSupply': 21000000, 'links': {'website': 'https://bitcoin.org', 'whitepaper': 'https://bitcoin.org/bitcoin.pdf', 'twitter': None, 'reddit': 'https://reddit.com/r/bitcoin', 'telegram': None, 'discord': None, 'medium': None, 'instagram': None, 'tiktok': None, 'youtube': None, 'linkedin': None, 'twitch': None, 'spotify': None, 'naver': None, 'wechat': None, 'soundcloud': None}, 'rate': 65791.5729879617, 'volume': 20989565632, 'cap': 1296808418553, 'liquidity': 1309212501, 'delta': {'hour': 1.0032, 'day': 0.9842, 'week': 0.9313, 'month': 1.0127, 'quarter': 0.9668, 'year': 2.6341}}\n",
      "<kafka.producer.future.FutureRecordMetadata object at 0x0000025BB5603310>\n",
      "{'name': 'Bitcoin', 'symbol': '₿', 'rank': 1, 'age': 5641, 'color': '#fa9e32', 'png32': 'https://lcw.nyc3.cdn.digitaloceanspaces.com/production/currencies/32/btc.png', 'png64': 'https://lcw.nyc3.cdn.digitaloceanspaces.com/production/currencies/64/btc.png', 'webp32': 'https://lcw.nyc3.cdn.digitaloceanspaces.com/production/currencies/32/btc.webp', 'webp64': 'https://lcw.nyc3.cdn.digitaloceanspaces.com/production/currencies/64/btc.webp', 'exchanges': 194, 'markets': 2969, 'pairs': 880, 'categories': [], 'allTimeHighUSD': 73781.24185982272, 'circulatingSupply': 19710859, 'totalSupply': 19710859, 'maxSupply': 21000000, 'links': {'website': 'https://bitcoin.org', 'whitepaper': 'https://bitcoin.org/bitcoin.pdf', 'twitter': None, 'reddit': 'https://reddit.com/r/bitcoin', 'telegram': None, 'discord': None, 'medium': None, 'instagram': None, 'tiktok': None, 'youtube': None, 'linkedin': None, 'twitch': None, 'spotify': None, 'naver': None, 'wechat': None, 'soundcloud': None}, 'rate': 65792.9642287931, 'volume': 20988455425, 'cap': 1296835841105, 'liquidity': 1324915919, 'delta': {'hour': 1.0032, 'day': 0.9842, 'week': 0.9313, 'month': 1.0127, 'quarter': 0.9668, 'year': 2.6341}}\n",
      "<kafka.producer.future.FutureRecordMetadata object at 0x0000025BB55DFDF0>\n",
      "{'name': 'Bitcoin', 'symbol': '₿', 'rank': 1, 'age': 5641, 'color': '#fa9e32', 'png32': 'https://lcw.nyc3.cdn.digitaloceanspaces.com/production/currencies/32/btc.png', 'png64': 'https://lcw.nyc3.cdn.digitaloceanspaces.com/production/currencies/64/btc.png', 'webp32': 'https://lcw.nyc3.cdn.digitaloceanspaces.com/production/currencies/32/btc.webp', 'webp64': 'https://lcw.nyc3.cdn.digitaloceanspaces.com/production/currencies/64/btc.webp', 'exchanges': 194, 'markets': 2969, 'pairs': 880, 'categories': [], 'allTimeHighUSD': 73781.24185982272, 'circulatingSupply': 19710859, 'totalSupply': 19710859, 'maxSupply': 21000000, 'links': {'website': 'https://bitcoin.org', 'whitepaper': 'https://bitcoin.org/bitcoin.pdf', 'twitter': None, 'reddit': 'https://reddit.com/r/bitcoin', 'telegram': None, 'discord': None, 'medium': None, 'instagram': None, 'tiktok': None, 'youtube': None, 'linkedin': None, 'twitch': None, 'spotify': None, 'naver': None, 'wechat': None, 'soundcloud': None}, 'rate': 65810.97433064564, 'volume': 20998673670, 'cap': 1297190835683, 'liquidity': 1338279330, 'delta': {'hour': 1.0035, 'day': 0.9845, 'week': 0.9316, 'month': 1.013, 'quarter': 0.9671, 'year': 2.6349}}\n",
      "<kafka.producer.future.FutureRecordMetadata object at 0x0000025BB55EA730>\n",
      "{'name': 'Bitcoin', 'symbol': '₿', 'rank': 1, 'age': 5641, 'color': '#fa9e32', 'png32': 'https://lcw.nyc3.cdn.digitaloceanspaces.com/production/currencies/32/btc.png', 'png64': 'https://lcw.nyc3.cdn.digitaloceanspaces.com/production/currencies/64/btc.png', 'webp32': 'https://lcw.nyc3.cdn.digitaloceanspaces.com/production/currencies/32/btc.webp', 'webp64': 'https://lcw.nyc3.cdn.digitaloceanspaces.com/production/currencies/64/btc.webp', 'exchanges': 194, 'markets': 2969, 'pairs': 880, 'categories': [], 'allTimeHighUSD': 73781.24185982272, 'circulatingSupply': 19710859, 'totalSupply': 19710859, 'maxSupply': 21000000, 'links': {'website': 'https://bitcoin.org', 'whitepaper': 'https://bitcoin.org/bitcoin.pdf', 'twitter': None, 'reddit': 'https://reddit.com/r/bitcoin', 'telegram': None, 'discord': None, 'medium': None, 'instagram': None, 'tiktok': None, 'youtube': None, 'linkedin': None, 'twitch': None, 'spotify': None, 'naver': None, 'wechat': None, 'soundcloud': None}, 'rate': 65811.31271170509, 'volume': 20997387644, 'cap': 1297197505465, 'liquidity': 1336884312, 'delta': {'hour': 1.0035, 'day': 0.9845, 'week': 0.9316, 'month': 1.013, 'quarter': 0.9671, 'year': 2.6349}}\n",
      "<kafka.producer.future.FutureRecordMetadata object at 0x0000025BB55FAF10>\n",
      "{'error': {'code': 502, 'status': 'Bad Gateway', 'description': 'Server, while acting as a gateway or proxy, received an invalid response from an inbound server it accessed while attempting to fulfill the request.'}}\n",
      "API call failed: API Error: Server, while acting as a gateway or proxy, received an invalid response from an inbound server it accessed while attempting to fulfill the request.\n",
      "{'name': 'Bitcoin', 'symbol': '₿', 'rank': 1, 'age': 5641, 'color': '#fa9e32', 'png32': 'https://lcw.nyc3.cdn.digitaloceanspaces.com/production/currencies/32/btc.png', 'png64': 'https://lcw.nyc3.cdn.digitaloceanspaces.com/production/currencies/64/btc.png', 'webp32': 'https://lcw.nyc3.cdn.digitaloceanspaces.com/production/currencies/32/btc.webp', 'webp64': 'https://lcw.nyc3.cdn.digitaloceanspaces.com/production/currencies/64/btc.webp', 'exchanges': 194, 'markets': 2969, 'pairs': 880, 'categories': [], 'allTimeHighUSD': 73781.24185982272, 'circulatingSupply': 19710859, 'totalSupply': 19710859, 'maxSupply': 21000000, 'links': {'website': 'https://bitcoin.org', 'whitepaper': 'https://bitcoin.org/bitcoin.pdf', 'twitter': None, 'reddit': 'https://reddit.com/r/bitcoin', 'telegram': None, 'discord': None, 'medium': None, 'instagram': None, 'tiktok': None, 'youtube': None, 'linkedin': None, 'twitch': None, 'spotify': None, 'naver': None, 'wechat': None, 'soundcloud': None}, 'rate': 65811.4833406526, 'volume': 20989483520, 'cap': 1297200868708, 'liquidity': 1332402122, 'delta': {'hour': 1.0035, 'day': 0.9845, 'week': 0.9316, 'month': 1.013, 'quarter': 0.9671, 'year': 2.6349}}\n",
      "<kafka.producer.future.FutureRecordMetadata object at 0x0000025BB56133D0>\n",
      "{'name': 'Bitcoin', 'symbol': '₿', 'rank': 1, 'age': 5641, 'color': '#fa9e32', 'png32': 'https://lcw.nyc3.cdn.digitaloceanspaces.com/production/currencies/32/btc.png', 'png64': 'https://lcw.nyc3.cdn.digitaloceanspaces.com/production/currencies/64/btc.png', 'webp32': 'https://lcw.nyc3.cdn.digitaloceanspaces.com/production/currencies/32/btc.webp', 'webp64': 'https://lcw.nyc3.cdn.digitaloceanspaces.com/production/currencies/64/btc.webp', 'exchanges': 194, 'markets': 2969, 'pairs': 880, 'categories': [], 'allTimeHighUSD': 73781.24185982272, 'circulatingSupply': 19710859, 'totalSupply': 19710859, 'maxSupply': 21000000, 'links': {'website': 'https://bitcoin.org', 'whitepaper': 'https://bitcoin.org/bitcoin.pdf', 'twitter': None, 'reddit': 'https://reddit.com/r/bitcoin', 'telegram': None, 'discord': None, 'medium': None, 'instagram': None, 'tiktok': None, 'youtube': None, 'linkedin': None, 'twitch': None, 'spotify': None, 'naver': None, 'wechat': None, 'soundcloud': None}, 'rate': 65819.95460297973, 'volume': 21027517744, 'cap': 1297367844565, 'liquidity': 1326057026, 'delta': {'hour': 1.0037, 'day': 0.9846, 'week': 0.9317, 'month': 1.0131, 'quarter': 0.9672, 'year': 2.6352}}\n",
      "<kafka.producer.future.FutureRecordMetadata object at 0x0000025BB562AB50>\n",
      "{'name': 'Bitcoin', 'symbol': '₿', 'rank': 1, 'age': 5641, 'color': '#fa9e32', 'png32': 'https://lcw.nyc3.cdn.digitaloceanspaces.com/production/currencies/32/btc.png', 'png64': 'https://lcw.nyc3.cdn.digitaloceanspaces.com/production/currencies/64/btc.png', 'webp32': 'https://lcw.nyc3.cdn.digitaloceanspaces.com/production/currencies/32/btc.webp', 'webp64': 'https://lcw.nyc3.cdn.digitaloceanspaces.com/production/currencies/64/btc.webp', 'exchanges': 194, 'markets': 2969, 'pairs': 880, 'categories': [], 'allTimeHighUSD': 73781.24185982272, 'circulatingSupply': 19710859, 'totalSupply': 19710859, 'maxSupply': 21000000, 'links': {'website': 'https://bitcoin.org', 'whitepaper': 'https://bitcoin.org/bitcoin.pdf', 'twitter': None, 'reddit': 'https://reddit.com/r/bitcoin', 'telegram': None, 'discord': None, 'medium': None, 'instagram': None, 'tiktok': None, 'youtube': None, 'linkedin': None, 'twitch': None, 'spotify': None, 'naver': None, 'wechat': None, 'soundcloud': None}, 'rate': 65820.6987731285, 'volume': 21027550402, 'cap': 1297382512798, 'liquidity': 1325746566, 'delta': {'hour': 1.0037, 'day': 0.9846, 'week': 0.9317, 'month': 1.0131, 'quarter': 0.9672, 'year': 2.6352}}\n",
      "<kafka.producer.future.FutureRecordMetadata object at 0x0000025BB559FA90>\n",
      "{'name': 'Bitcoin', 'symbol': '₿', 'rank': 1, 'age': 5641, 'color': '#fa9e32', 'png32': 'https://lcw.nyc3.cdn.digitaloceanspaces.com/production/currencies/32/btc.png', 'png64': 'https://lcw.nyc3.cdn.digitaloceanspaces.com/production/currencies/64/btc.png', 'webp32': 'https://lcw.nyc3.cdn.digitaloceanspaces.com/production/currencies/32/btc.webp', 'webp64': 'https://lcw.nyc3.cdn.digitaloceanspaces.com/production/currencies/64/btc.webp', 'exchanges': 194, 'markets': 2969, 'pairs': 880, 'categories': [], 'allTimeHighUSD': 73781.24185982272, 'circulatingSupply': 19710859, 'totalSupply': 19710859, 'maxSupply': 21000000, 'links': {'website': 'https://bitcoin.org', 'whitepaper': 'https://bitcoin.org/bitcoin.pdf', 'twitter': None, 'reddit': 'https://reddit.com/r/bitcoin', 'telegram': None, 'discord': None, 'medium': None, 'instagram': None, 'tiktok': None, 'youtube': None, 'linkedin': None, 'twitch': None, 'spotify': None, 'naver': None, 'wechat': None, 'soundcloud': None}, 'rate': 65820.5998593459, 'volume': 21022452692, 'cap': 1297380563122, 'liquidity': 1334027548, 'delta': {'hour': 1.0037, 'day': 0.9846, 'week': 0.9317, 'month': 1.0131, 'quarter': 0.9672, 'year': 2.6352}}\n",
      "<kafka.producer.future.FutureRecordMetadata object at 0x0000025BB561BC10>\n",
      "{'name': 'Bitcoin', 'symbol': '₿', 'rank': 1, 'age': 5641, 'color': '#fa9e32', 'png32': 'https://lcw.nyc3.cdn.digitaloceanspaces.com/production/currencies/32/btc.png', 'png64': 'https://lcw.nyc3.cdn.digitaloceanspaces.com/production/currencies/64/btc.png', 'webp32': 'https://lcw.nyc3.cdn.digitaloceanspaces.com/production/currencies/32/btc.webp', 'webp64': 'https://lcw.nyc3.cdn.digitaloceanspaces.com/production/currencies/64/btc.webp', 'exchanges': 194, 'markets': 2969, 'pairs': 880, 'categories': [], 'allTimeHighUSD': 73781.24185982272, 'circulatingSupply': 19710859, 'totalSupply': 19710859, 'maxSupply': 21000000, 'links': {'website': 'https://bitcoin.org', 'whitepaper': 'https://bitcoin.org/bitcoin.pdf', 'twitter': None, 'reddit': 'https://reddit.com/r/bitcoin', 'telegram': None, 'discord': None, 'medium': None, 'instagram': None, 'tiktok': None, 'youtube': None, 'linkedin': None, 'twitch': None, 'spotify': None, 'naver': None, 'wechat': None, 'soundcloud': None}, 'rate': 65858.3965159958, 'volume': 21032664250, 'cap': 1298125567692, 'liquidity': 1344141639, 'delta': {'hour': 1.0042, 'day': 0.9852, 'week': 0.9323, 'month': 1.0137, 'quarter': 0.9678, 'year': 2.6368}}\n",
      "<kafka.producer.future.FutureRecordMetadata object at 0x0000025BB566A0D0>\n",
      "{'name': 'Bitcoin', 'symbol': '₿', 'rank': 1, 'age': 5641, 'color': '#fa9e32', 'png32': 'https://lcw.nyc3.cdn.digitaloceanspaces.com/production/currencies/32/btc.png', 'png64': 'https://lcw.nyc3.cdn.digitaloceanspaces.com/production/currencies/64/btc.png', 'webp32': 'https://lcw.nyc3.cdn.digitaloceanspaces.com/production/currencies/32/btc.webp', 'webp64': 'https://lcw.nyc3.cdn.digitaloceanspaces.com/production/currencies/64/btc.webp', 'exchanges': 194, 'markets': 2969, 'pairs': 880, 'categories': [], 'allTimeHighUSD': 73781.24185982272, 'circulatingSupply': 19710859, 'totalSupply': 19710859, 'maxSupply': 21000000, 'links': {'website': 'https://bitcoin.org', 'whitepaper': 'https://bitcoin.org/bitcoin.pdf', 'twitter': None, 'reddit': 'https://reddit.com/r/bitcoin', 'telegram': None, 'discord': None, 'medium': None, 'instagram': None, 'tiktok': None, 'youtube': None, 'linkedin': None, 'twitch': None, 'spotify': None, 'naver': None, 'wechat': None, 'soundcloud': None}, 'rate': 65862.26834484188, 'volume': 21031316460, 'cap': 1298201884765, 'liquidity': 1339691707, 'delta': {'hour': 1.0043, 'day': 0.9852, 'week': 0.9323, 'month': 1.0138, 'quarter': 0.9679, 'year': 2.6369}}\n",
      "<kafka.producer.future.FutureRecordMetadata object at 0x0000025BB55F1460>\n",
      "{'name': 'Bitcoin', 'symbol': '₿', 'rank': 1, 'age': 5641, 'color': '#fa9e32', 'png32': 'https://lcw.nyc3.cdn.digitaloceanspaces.com/production/currencies/32/btc.png', 'png64': 'https://lcw.nyc3.cdn.digitaloceanspaces.com/production/currencies/64/btc.png', 'webp32': 'https://lcw.nyc3.cdn.digitaloceanspaces.com/production/currencies/32/btc.webp', 'webp64': 'https://lcw.nyc3.cdn.digitaloceanspaces.com/production/currencies/64/btc.webp', 'exchanges': 194, 'markets': 2969, 'pairs': 880, 'categories': [], 'allTimeHighUSD': 73781.24185982272, 'circulatingSupply': 19710859, 'totalSupply': 19710859, 'maxSupply': 21000000, 'links': {'website': 'https://bitcoin.org', 'whitepaper': 'https://bitcoin.org/bitcoin.pdf', 'twitter': None, 'reddit': 'https://reddit.com/r/bitcoin', 'telegram': None, 'discord': None, 'medium': None, 'instagram': None, 'tiktok': None, 'youtube': None, 'linkedin': None, 'twitch': None, 'spotify': None, 'naver': None, 'wechat': None, 'soundcloud': None}, 'rate': 65871.27117961703, 'volume': 21033704586, 'cap': 1298379338372, 'liquidity': 1327089245, 'delta': {'hour': 1.0048, 'day': 0.9848, 'week': 0.9346, 'month': 1.0131, 'quarter': 0.967, 'year': 2.6361}}\n",
      "<kafka.producer.future.FutureRecordMetadata object at 0x0000025BB564ABB0>\n",
      "{'name': 'Bitcoin', 'symbol': '₿', 'rank': 1, 'age': 5641, 'color': '#fa9e32', 'png32': 'https://lcw.nyc3.cdn.digitaloceanspaces.com/production/currencies/32/btc.png', 'png64': 'https://lcw.nyc3.cdn.digitaloceanspaces.com/production/currencies/64/btc.png', 'webp32': 'https://lcw.nyc3.cdn.digitaloceanspaces.com/production/currencies/32/btc.webp', 'webp64': 'https://lcw.nyc3.cdn.digitaloceanspaces.com/production/currencies/64/btc.webp', 'exchanges': 194, 'markets': 2969, 'pairs': 880, 'categories': [], 'allTimeHighUSD': 73781.24185982272, 'circulatingSupply': 19710859, 'totalSupply': 19710859, 'maxSupply': 21000000, 'links': {'website': 'https://bitcoin.org', 'whitepaper': 'https://bitcoin.org/bitcoin.pdf', 'twitter': None, 'reddit': 'https://reddit.com/r/bitcoin', 'telegram': None, 'discord': None, 'medium': None, 'instagram': None, 'tiktok': None, 'youtube': None, 'linkedin': None, 'twitch': None, 'spotify': None, 'naver': None, 'wechat': None, 'soundcloud': None}, 'rate': 65874.35347630203, 'volume': 21033081403, 'cap': 1298440093087, 'liquidity': 1331311105, 'delta': {'hour': 1.0049, 'day': 0.9848, 'week': 0.9347, 'month': 1.0132, 'quarter': 0.9671, 'year': 2.6362}}\n",
      "<kafka.producer.future.FutureRecordMetadata object at 0x0000025BB5572820>\n",
      "{'name': 'Bitcoin', 'symbol': '₿', 'rank': 1, 'age': 5641, 'color': '#fa9e32', 'png32': 'https://lcw.nyc3.cdn.digitaloceanspaces.com/production/currencies/32/btc.png', 'png64': 'https://lcw.nyc3.cdn.digitaloceanspaces.com/production/currencies/64/btc.png', 'webp32': 'https://lcw.nyc3.cdn.digitaloceanspaces.com/production/currencies/32/btc.webp', 'webp64': 'https://lcw.nyc3.cdn.digitaloceanspaces.com/production/currencies/64/btc.webp', 'exchanges': 194, 'markets': 2969, 'pairs': 880, 'categories': [], 'allTimeHighUSD': 73781.24185982272, 'circulatingSupply': 19710859, 'totalSupply': 19710859, 'maxSupply': 21000000, 'links': {'website': 'https://bitcoin.org', 'whitepaper': 'https://bitcoin.org/bitcoin.pdf', 'twitter': None, 'reddit': 'https://reddit.com/r/bitcoin', 'telegram': None, 'discord': None, 'medium': None, 'instagram': None, 'tiktok': None, 'youtube': None, 'linkedin': None, 'twitch': None, 'spotify': None, 'naver': None, 'wechat': None, 'soundcloud': None}, 'rate': 65872.5254092426, 'volume': 21029849141, 'cap': 1298404060315, 'liquidity': 1333208239, 'delta': {'hour': 1.0048, 'day': 0.9848, 'week': 0.9347, 'month': 1.0132, 'quarter': 0.9671, 'year': 2.6361}}\n",
      "<kafka.producer.future.FutureRecordMetadata object at 0x0000025BB5649280>\n",
      "{'name': 'Bitcoin', 'symbol': '₿', 'rank': 1, 'age': 5641, 'color': '#fa9e32', 'png32': 'https://lcw.nyc3.cdn.digitaloceanspaces.com/production/currencies/32/btc.png', 'png64': 'https://lcw.nyc3.cdn.digitaloceanspaces.com/production/currencies/64/btc.png', 'webp32': 'https://lcw.nyc3.cdn.digitaloceanspaces.com/production/currencies/32/btc.webp', 'webp64': 'https://lcw.nyc3.cdn.digitaloceanspaces.com/production/currencies/64/btc.webp', 'exchanges': 194, 'markets': 2969, 'pairs': 880, 'categories': [], 'allTimeHighUSD': 73781.24185982272, 'circulatingSupply': 19710859, 'totalSupply': 19710859, 'maxSupply': 21000000, 'links': {'website': 'https://bitcoin.org', 'whitepaper': 'https://bitcoin.org/bitcoin.pdf', 'twitter': None, 'reddit': 'https://reddit.com/r/bitcoin', 'telegram': None, 'discord': None, 'medium': None, 'instagram': None, 'tiktok': None, 'youtube': None, 'linkedin': None, 'twitch': None, 'spotify': None, 'naver': None, 'wechat': None, 'soundcloud': None}, 'rate': 65876.33561832852, 'volume': 21035381058, 'cap': 1298479162809, 'liquidity': 1338989484, 'delta': {'hour': 1.0049, 'day': 0.9849, 'week': 0.9347, 'month': 1.0132, 'quarter': 0.9671, 'year': 2.6363}}\n",
      "<kafka.producer.future.FutureRecordMetadata object at 0x0000025BB557CB50>\n",
      "{'name': 'Bitcoin', 'symbol': '₿', 'rank': 1, 'age': 5641, 'color': '#fa9e32', 'png32': 'https://lcw.nyc3.cdn.digitaloceanspaces.com/production/currencies/32/btc.png', 'png64': 'https://lcw.nyc3.cdn.digitaloceanspaces.com/production/currencies/64/btc.png', 'webp32': 'https://lcw.nyc3.cdn.digitaloceanspaces.com/production/currencies/32/btc.webp', 'webp64': 'https://lcw.nyc3.cdn.digitaloceanspaces.com/production/currencies/64/btc.webp', 'exchanges': 194, 'markets': 2969, 'pairs': 880, 'categories': [], 'allTimeHighUSD': 73781.24185982272, 'circulatingSupply': 19710859, 'totalSupply': 19710859, 'maxSupply': 21000000, 'links': {'website': 'https://bitcoin.org', 'whitepaper': 'https://bitcoin.org/bitcoin.pdf', 'twitter': None, 'reddit': 'https://reddit.com/r/bitcoin', 'telegram': None, 'discord': None, 'medium': None, 'instagram': None, 'tiktok': None, 'youtube': None, 'linkedin': None, 'twitch': None, 'spotify': None, 'naver': None, 'wechat': None, 'soundcloud': None}, 'rate': 65863.58438999898, 'volume': 21030913586, 'cap': 1298227825145, 'liquidity': 1342805219, 'delta': {'hour': 1.0047, 'day': 0.9847, 'week': 0.9345, 'month': 1.013, 'quarter': 0.9669, 'year': 2.6358}}\n",
      "<kafka.producer.future.FutureRecordMetadata object at 0x0000025BB566F670>\n"
     ]
    }
   ],
   "source": [
    "#Creating custom Exception\n",
    "class APICallError(Exception):\n",
    "    \"\"\"Raised when there is an error during an API call\"\"\"\n",
    "    pass\n",
    "\n",
    "while True:\n",
    "    sleep(20)\n",
    "    try:\n",
    "        \n",
    "        # Fetch data from API\n",
    "        data = ce.coin_info(0)\n",
    "        if 'error' in data:\n",
    "            raise APICallError(f\"API Error: {data['error']['description']}\")\n",
    "\n",
    "    except APICallError as api_err:\n",
    "        print(f\"API call failed: {api_err}\")\n",
    "\n",
    "    else:\n",
    "        producer = KafkaProducer(bootstrap_servers=['52.14.28.124:9092'],\n",
    "                                value_serializer=lambda x: dumps(x).encode('utf-8'))\n",
    "        print(producer.send('crypto', value=data))"
   ]
  },
  {
   "cell_type": "code",
   "execution_count": null,
   "metadata": {},
   "outputs": [],
   "source": []
  }
 ],
 "metadata": {
  "kernelspec": {
   "display_name": "Python 3",
   "language": "python",
   "name": "python3"
  },
  "language_info": {
   "codemirror_mode": {
    "name": "ipython",
    "version": 3
   },
   "file_extension": ".py",
   "mimetype": "text/x-python",
   "name": "python",
   "nbconvert_exporter": "python",
   "pygments_lexer": "ipython3",
   "version": "3.9.11"
  }
 },
 "nbformat": 4,
 "nbformat_minor": 2
}
