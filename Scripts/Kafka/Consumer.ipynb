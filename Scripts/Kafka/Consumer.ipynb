{
 "cells": [
  {
   "cell_type": "code",
   "execution_count": 1,
   "metadata": {},
   "outputs": [],
   "source": [
    "from kafka import KafkaConsumer\n",
    "from time import sleep\n",
    "from json import dumps,loads\n",
    "import json\n",
    "import pandas as pd\n",
    "import openpyexcel\n",
    "import ast\n",
    "#from s3fs import S3FileSystem"
   ]
  },
  {
   "cell_type": "code",
   "execution_count": 6,
   "metadata": {},
   "outputs": [],
   "source": [
    "consumer = KafkaConsumer('crypto', bootstrap_servers=['3.17.23.28:9092'],\n",
    "           value_deserializer=lambda x: loads(x.decode('utf-8')))"
   ]
  },
  {
   "cell_type": "code",
   "execution_count": 7,
   "metadata": {},
   "outputs": [
    {
     "name": "stdout",
     "output_type": "stream",
     "text": [
      "ConsumerRecord(topic='crypto', partition=0, offset=142, timestamp=1709443378532, timestamp_type=0, key=None, value={'name': 'Bitcoin', 'symbol': '₿', 'rank': 1, 'age': 3959, 'color': '#fa9e32', 'png32': 'https://lcw.nyc3.cdn.digitaloceanspaces.com/production/currencies/32/btc.png', 'png64': 'https://lcw.nyc3.cdn.digitaloceanspaces.com/production/currencies/64/btc.png', 'webp32': 'https://lcw.nyc3.cdn.digitaloceanspaces.com/production/currencies/32/btc.webp', 'webp64': 'https://lcw.nyc3.cdn.digitaloceanspaces.com/production/currencies/64/btc.webp', 'exchanges': 179, 'markets': 3104, 'pairs': 969, 'categories': [], 'allTimeHighUSD': 68780.77475755227, 'circulatingSupply': 19643250, 'totalSupply': 19643250, 'maxSupply': 21000000, 'links': {'website': 'https://bitcoin.org/', 'whitepaper': 'https://bitcoin.org/bitcoin.pdf', 'twitter': None, 'reddit': 'https://reddit.com/r/bitcoin', 'telegram': None, 'discord': None, 'medium': None, 'instagram': None, 'tiktok': None, 'youtube': None, 'linkedin': None, 'twitch': None, 'spotify': None, 'naver': None, 'wechat': None, 'soundcloud': None}, 'rate': 62003.81743842942, 'volume': 17034550774, 'cap': 1217956486897, 'liquidity': 1149197595, 'delta': {'hour': 0.9984, 'day': 1.0025, 'week': 1.1991, 'month': 1.4397, 'quarter': 1.5022, 'year': 2.7686}}, headers=[], checksum=None, serialized_key_size=-1, serialized_value_size=1192, serialized_header_size=-1)\n",
      "ConsumerRecord(topic='crypto', partition=0, offset=143, timestamp=1709443433284, timestamp_type=0, key=None, value={'name': 'Bitcoin', 'symbol': '₿', 'rank': 1, 'age': 3959, 'color': '#fa9e32', 'png32': 'https://lcw.nyc3.cdn.digitaloceanspaces.com/production/currencies/32/btc.png', 'png64': 'https://lcw.nyc3.cdn.digitaloceanspaces.com/production/currencies/64/btc.png', 'webp32': 'https://lcw.nyc3.cdn.digitaloceanspaces.com/production/currencies/32/btc.webp', 'webp64': 'https://lcw.nyc3.cdn.digitaloceanspaces.com/production/currencies/64/btc.webp', 'exchanges': 179, 'markets': 3104, 'pairs': 969, 'categories': [], 'allTimeHighUSD': 68780.77475755227, 'circulatingSupply': 19643250, 'totalSupply': 19643250, 'maxSupply': 21000000, 'links': {'website': 'https://bitcoin.org/', 'whitepaper': 'https://bitcoin.org/bitcoin.pdf', 'twitter': None, 'reddit': 'https://reddit.com/r/bitcoin', 'telegram': None, 'discord': None, 'medium': None, 'instagram': None, 'tiktok': None, 'youtube': None, 'linkedin': None, 'twitch': None, 'spotify': None, 'naver': None, 'wechat': None, 'soundcloud': None}, 'rate': 62001.128035435664, 'volume': 17027621004, 'cap': 1217903658282, 'liquidity': 1146021554, 'delta': {'hour': 0.9984, 'day': 1.0025, 'week': 1.199, 'month': 1.4397, 'quarter': 1.5022, 'year': 2.7685}}, headers=[], checksum=None, serialized_key_size=-1, serialized_value_size=1192, serialized_header_size=-1)\n",
      "ConsumerRecord(topic='crypto', partition=0, offset=144, timestamp=1709443480305, timestamp_type=0, key=None, value={'name': 'Bitcoin', 'symbol': '₿', 'rank': 1, 'age': 3959, 'color': '#fa9e32', 'png32': 'https://lcw.nyc3.cdn.digitaloceanspaces.com/production/currencies/32/btc.png', 'png64': 'https://lcw.nyc3.cdn.digitaloceanspaces.com/production/currencies/64/btc.png', 'webp32': 'https://lcw.nyc3.cdn.digitaloceanspaces.com/production/currencies/32/btc.webp', 'webp64': 'https://lcw.nyc3.cdn.digitaloceanspaces.com/production/currencies/64/btc.webp', 'exchanges': 179, 'markets': 3104, 'pairs': 969, 'categories': [], 'allTimeHighUSD': 68780.77475755227, 'circulatingSupply': 19643250, 'totalSupply': 19643250, 'maxSupply': 21000000, 'links': {'website': 'https://bitcoin.org/', 'whitepaper': 'https://bitcoin.org/bitcoin.pdf', 'twitter': None, 'reddit': 'https://reddit.com/r/bitcoin', 'telegram': None, 'discord': None, 'medium': None, 'instagram': None, 'tiktok': None, 'youtube': None, 'linkedin': None, 'twitch': None, 'spotify': None, 'naver': None, 'wechat': None, 'soundcloud': None}, 'rate': 61999.457439557234, 'volume': 17020104070, 'cap': 1217870842349, 'liquidity': 1150465732, 'delta': {'hour': 0.9984, 'day': 1.0024, 'week': 1.199, 'month': 1.4396, 'quarter': 1.5021, 'year': 2.7684}}, headers=[], checksum=None, serialized_key_size=-1, serialized_value_size=1192, serialized_header_size=-1)\n",
      "ConsumerRecord(topic='crypto', partition=0, offset=145, timestamp=1709443605227, timestamp_type=0, key=None, value={'name': 'Bitcoin', 'symbol': '₿', 'rank': 1, 'age': 3959, 'color': '#fa9e32', 'png32': 'https://lcw.nyc3.cdn.digitaloceanspaces.com/production/currencies/32/btc.png', 'png64': 'https://lcw.nyc3.cdn.digitaloceanspaces.com/production/currencies/64/btc.png', 'webp32': 'https://lcw.nyc3.cdn.digitaloceanspaces.com/production/currencies/32/btc.webp', 'webp64': 'https://lcw.nyc3.cdn.digitaloceanspaces.com/production/currencies/64/btc.webp', 'exchanges': 179, 'markets': 3103, 'pairs': 969, 'categories': [], 'allTimeHighUSD': 68780.77475755227, 'circulatingSupply': 19643250, 'totalSupply': 19643250, 'maxSupply': 21000000, 'links': {'website': 'https://bitcoin.org/', 'whitepaper': 'https://bitcoin.org/bitcoin.pdf', 'twitter': None, 'reddit': 'https://reddit.com/r/bitcoin', 'telegram': None, 'discord': None, 'medium': None, 'instagram': None, 'tiktok': None, 'youtube': None, 'linkedin': None, 'twitch': None, 'spotify': None, 'naver': None, 'wechat': None, 'soundcloud': None}, 'rate': 61996.81718258437, 'volume': 17003300641, 'cap': 1217818979121, 'liquidity': 1139404330, 'delta': {'hour': 0.9977, 'day': 1.0009, 'week': 1.198, 'month': 1.44, 'quarter': 1.494, 'year': 2.7688}}, headers=[], checksum=None, serialized_key_size=-1, serialized_value_size=1188, serialized_header_size=-1)\n"
     ]
    }
   ],
   "source": [
    "# for c in consumer:\n",
    "#     print(c.value)\n",
    "msg_buffer = []\n",
    "buffer_size = 3\n",
    "for msg in consumer:\n",
    "        print(msg)\n",
    "        msg_buffer.append(msg)\n",
    "        if len(msg_buffer) >= buffer_size:\n",
    "            existing_data = pd.read_csv(\"cryto_data.csv\")\n",
    "            new_data = pd.DataFrame(msg_buffer)\n",
    "            combined_data = pd.concat([existing_data, new_data], ignore_index=True)\n",
    "            df = combined_data.to_csv(\"cryto_data.csv\", index = False)\n",
    "            msg_buffer = []"
   ]
  },
  {
   "cell_type": "code",
   "execution_count": null,
   "metadata": {},
   "outputs": [],
   "source": [
    "# for c in consumer:\n",
    "#     print(c.value)\n",
    "msg_buffer = []\n",
    "buffer_size = 3\n",
    "for msg in consumer:\n",
    "        msg_buffer.append(msg)\n",
    "        if len(msg_buffer) >= buffer_size:\n",
    "            book_ro = open_workbook(\"data.xlsx\")\n",
    "            book = copy(book_ro)  # creates a writeable copy\n",
    "            for msg in msg_buffer:\n",
    "                sheet1 = book.get_sheet(0)  # get a first sheet\n",
    "                sheet1.write(rowx,colx, _msg)\n",
    "            book.save(\"data.xls\")\n",
    "            msg_buffer = []"
   ]
  },
  {
   "cell_type": "code",
   "execution_count": 10,
   "metadata": {},
   "outputs": [
    {
     "data": {
      "text/plain": [
       "{0: \"{'name': 'Bitcoin', 'symbol': '₿', 'rank': 1, 'age': 3952, 'color': '#fa9e32', 'png32': 'https://lcw.nyc3.cdn.digitaloceanspaces.com/production/currencies/32/btc.png', 'png64': 'https://lcw.nyc3.cdn.digitaloceanspaces.com/production/currencies/64/btc.png', 'webp32': 'https://lcw.nyc3.cdn.digitaloceanspaces.com/production/currencies/32/btc.webp', 'webp64': 'https://lcw.nyc3.cdn.digitaloceanspaces.com/production/currencies/64/btc.webp', 'exchanges': 176, 'markets': 3086, 'pairs': 952, 'categories': [], 'allTimeHighUSD': 68780.77475755227, 'circulatingSupply': 19636681, 'totalSupply': 19636681, 'maxSupply': 21000000, 'links': {'website': 'https://bitcoin.org/', 'whitepaper': 'https://bitcoin.org/bitcoin.pdf', 'twitter': None, 'reddit': 'https://reddit.com/r/bitcoin', 'telegram': None, 'discord': None, 'medium': None, 'instagram': None, 'tiktok': None, 'youtube': None, 'linkedin': None, 'twitch': None, 'spotify': None, 'naver': None, 'wechat': None, 'soundcloud': None}, 'rate': 51685.52144608645, 'volume': 10237971037, 'cap': 1014932096955, 'liquidity': 919648761, 'delta': {'hour': 1, 'day': 1.0175, 'week': 0.9975, 'month': 1.2912, 'quarter': 1.3753, 'year': 2.2199}}\",\n",
       " 1: \"{'name': 'Bitcoin', 'symbol': '₿', 'rank': 1, 'age': 3952, 'color': '#fa9e32', 'png32': 'https://lcw.nyc3.cdn.digitaloceanspaces.com/production/currencies/32/btc.png', 'png64': 'https://lcw.nyc3.cdn.digitaloceanspaces.com/production/currencies/64/btc.png', 'webp32': 'https://lcw.nyc3.cdn.digitaloceanspaces.com/production/currencies/32/btc.webp', 'webp64': 'https://lcw.nyc3.cdn.digitaloceanspaces.com/production/currencies/64/btc.webp', 'exchanges': 176, 'markets': 3086, 'pairs': 952, 'categories': [], 'allTimeHighUSD': 68780.77475755227, 'circulatingSupply': 19636681, 'totalSupply': 19636681, 'maxSupply': 21000000, 'links': {'website': 'https://bitcoin.org/', 'whitepaper': 'https://bitcoin.org/bitcoin.pdf', 'twitter': None, 'reddit': 'https://reddit.com/r/bitcoin', 'telegram': None, 'discord': None, 'medium': None, 'instagram': None, 'tiktok': None, 'youtube': None, 'linkedin': None, 'twitch': None, 'spotify': None, 'naver': None, 'wechat': None, 'soundcloud': None}, 'rate': 51686.692385674025, 'volume': 10183454977, 'cap': 1014955090323, 'liquidity': 920374172, 'delta': {'hour': 1, 'day': 1.0175, 'week': 0.9975, 'month': 1.2912, 'quarter': 1.3753, 'year': 2.2199}}\",\n",
       " 2: \"{'name': 'Bitcoin', 'symbol': '₿', 'rank': 1, 'age': 3952, 'color': '#fa9e32', 'png32': 'https://lcw.nyc3.cdn.digitaloceanspaces.com/production/currencies/32/btc.png', 'png64': 'https://lcw.nyc3.cdn.digitaloceanspaces.com/production/currencies/64/btc.png', 'webp32': 'https://lcw.nyc3.cdn.digitaloceanspaces.com/production/currencies/32/btc.webp', 'webp64': 'https://lcw.nyc3.cdn.digitaloceanspaces.com/production/currencies/64/btc.webp', 'exchanges': 176, 'markets': 3087, 'pairs': 952, 'categories': [], 'allTimeHighUSD': 68780.77475755227, 'circulatingSupply': 19636681, 'totalSupply': 19636681, 'maxSupply': 21000000, 'links': {'website': 'https://bitcoin.org/', 'whitepaper': 'https://bitcoin.org/bitcoin.pdf', 'twitter': None, 'reddit': 'https://reddit.com/r/bitcoin', 'telegram': None, 'discord': None, 'medium': None, 'instagram': None, 'tiktok': None, 'youtube': None, 'linkedin': None, 'twitch': None, 'spotify': None, 'naver': None, 'wechat': None, 'soundcloud': None}, 'rate': 51679.15833048191, 'volume': 10179203834, 'cap': 1014807146484, 'liquidity': 923238525, 'delta': {'hour': 0.9998, 'day': 1.0173, 'week': 0.9974, 'month': 1.2911, 'quarter': 1.3751, 'year': 2.2196}}\",\n",
       " 3: \"{'name': 'Bitcoin', 'symbol': '₿', 'rank': 1, 'age': 3952, 'color': '#fa9e32', 'png32': 'https://lcw.nyc3.cdn.digitaloceanspaces.com/production/currencies/32/btc.png', 'png64': 'https://lcw.nyc3.cdn.digitaloceanspaces.com/production/currencies/64/btc.png', 'webp32': 'https://lcw.nyc3.cdn.digitaloceanspaces.com/production/currencies/32/btc.webp', 'webp64': 'https://lcw.nyc3.cdn.digitaloceanspaces.com/production/currencies/64/btc.webp', 'exchanges': 176, 'markets': 3085, 'pairs': 952, 'categories': [], 'allTimeHighUSD': 68780.77475755227, 'circulatingSupply': 19636681, 'totalSupply': 19636681, 'maxSupply': 21000000, 'links': {'website': 'https://bitcoin.org/', 'whitepaper': 'https://bitcoin.org/bitcoin.pdf', 'twitter': None, 'reddit': 'https://reddit.com/r/bitcoin', 'telegram': None, 'discord': None, 'medium': None, 'instagram': None, 'tiktok': None, 'youtube': None, 'linkedin': None, 'twitch': None, 'spotify': None, 'naver': None, 'wechat': None, 'soundcloud': None}, 'rate': 51664.08854030231, 'volume': 10130836071, 'cap': 1014511225822, 'liquidity': 939921174, 'delta': {'hour': 0.9999, 'day': 1.0171, 'week': 0.9975, 'month': 1.2905, 'quarter': 1.3758, 'year': 2.2191}}\",\n",
       " 4: \"{'name': 'Bitcoin', 'symbol': '₿', 'rank': 1, 'age': 3952, 'color': '#fa9e32', 'png32': 'https://lcw.nyc3.cdn.digitaloceanspaces.com/production/currencies/32/btc.png', 'png64': 'https://lcw.nyc3.cdn.digitaloceanspaces.com/production/currencies/64/btc.png', 'webp32': 'https://lcw.nyc3.cdn.digitaloceanspaces.com/production/currencies/32/btc.webp', 'webp64': 'https://lcw.nyc3.cdn.digitaloceanspaces.com/production/currencies/64/btc.webp', 'exchanges': 176, 'markets': 3085, 'pairs': 952, 'categories': [], 'allTimeHighUSD': 68780.77475755227, 'circulatingSupply': 19636681, 'totalSupply': 19636681, 'maxSupply': 21000000, 'links': {'website': 'https://bitcoin.org/', 'whitepaper': 'https://bitcoin.org/bitcoin.pdf', 'twitter': None, 'reddit': 'https://reddit.com/r/bitcoin', 'telegram': None, 'discord': None, 'medium': None, 'instagram': None, 'tiktok': None, 'youtube': None, 'linkedin': None, 'twitch': None, 'spotify': None, 'naver': None, 'wechat': None, 'soundcloud': None}, 'rate': 51666.30160584466, 'volume': 10130141242, 'cap': 1014554683084, 'liquidity': 942473875, 'delta': {'hour': 0.9999, 'day': 1.0171, 'week': 0.9975, 'month': 1.2906, 'quarter': 1.3759, 'year': 2.2192}}\",\n",
       " 5: \"{'name': 'Bitcoin', 'symbol': '₿', 'rank': 1, 'age': 3952, 'color': '#fa9e32', 'png32': 'https://lcw.nyc3.cdn.digitaloceanspaces.com/production/currencies/32/btc.png', 'png64': 'https://lcw.nyc3.cdn.digitaloceanspaces.com/production/currencies/64/btc.png', 'webp32': 'https://lcw.nyc3.cdn.digitaloceanspaces.com/production/currencies/32/btc.webp', 'webp64': 'https://lcw.nyc3.cdn.digitaloceanspaces.com/production/currencies/64/btc.webp', 'exchanges': 176, 'markets': 3085, 'pairs': 952, 'categories': [], 'allTimeHighUSD': 68780.77475755227, 'circulatingSupply': 19636681, 'totalSupply': 19636681, 'maxSupply': 21000000, 'links': {'website': 'https://bitcoin.org/', 'whitepaper': 'https://bitcoin.org/bitcoin.pdf', 'twitter': None, 'reddit': 'https://reddit.com/r/bitcoin', 'telegram': None, 'discord': None, 'medium': None, 'instagram': None, 'tiktok': None, 'youtube': None, 'linkedin': None, 'twitch': None, 'spotify': None, 'naver': None, 'wechat': None, 'soundcloud': None}, 'rate': 51666.62362910907, 'volume': 10129211786, 'cap': 1014561006552, 'liquidity': 943427203, 'delta': {'hour': 0.9999, 'day': 1.0171, 'week': 0.9976, 'month': 1.2906, 'quarter': 1.3759, 'year': 2.2192}}\",\n",
       " 6: \"{'name': 'Bitcoin', 'symbol': '₿', 'rank': 1, 'age': 3952, 'color': '#fa9e32', 'png32': 'https://lcw.nyc3.cdn.digitaloceanspaces.com/production/currencies/32/btc.png', 'png64': 'https://lcw.nyc3.cdn.digitaloceanspaces.com/production/currencies/64/btc.png', 'webp32': 'https://lcw.nyc3.cdn.digitaloceanspaces.com/production/currencies/32/btc.webp', 'webp64': 'https://lcw.nyc3.cdn.digitaloceanspaces.com/production/currencies/64/btc.webp', 'exchanges': 176, 'markets': 3085, 'pairs': 952, 'categories': [], 'allTimeHighUSD': 68780.77475755227, 'circulatingSupply': 19636681, 'totalSupply': 19636681, 'maxSupply': 21000000, 'links': {'website': 'https://bitcoin.org/', 'whitepaper': 'https://bitcoin.org/bitcoin.pdf', 'twitter': None, 'reddit': 'https://reddit.com/r/bitcoin', 'telegram': None, 'discord': None, 'medium': None, 'instagram': None, 'tiktok': None, 'youtube': None, 'linkedin': None, 'twitch': None, 'spotify': None, 'naver': None, 'wechat': None, 'soundcloud': None}, 'rate': 51663.31857177463, 'volume': 10165347751, 'cap': 1014496106195, 'liquidity': 941323490, 'delta': {'hour': 0.9999, 'day': 1.0171, 'week': 0.9975, 'month': 1.2905, 'quarter': 1.3758, 'year': 2.2191}}\",\n",
       " 7: \"{'name': 'Bitcoin', 'symbol': '₿', 'rank': 1, 'age': 3952, 'color': '#fa9e32', 'png32': 'https://lcw.nyc3.cdn.digitaloceanspaces.com/production/currencies/32/btc.png', 'png64': 'https://lcw.nyc3.cdn.digitaloceanspaces.com/production/currencies/64/btc.png', 'webp32': 'https://lcw.nyc3.cdn.digitaloceanspaces.com/production/currencies/32/btc.webp', 'webp64': 'https://lcw.nyc3.cdn.digitaloceanspaces.com/production/currencies/64/btc.webp', 'exchanges': 176, 'markets': 3085, 'pairs': 952, 'categories': [], 'allTimeHighUSD': 68780.77475755227, 'circulatingSupply': 19636681, 'totalSupply': 19636681, 'maxSupply': 21000000, 'links': {'website': 'https://bitcoin.org/', 'whitepaper': 'https://bitcoin.org/bitcoin.pdf', 'twitter': None, 'reddit': 'https://reddit.com/r/bitcoin', 'telegram': None, 'discord': None, 'medium': None, 'instagram': None, 'tiktok': None, 'youtube': None, 'linkedin': None, 'twitch': None, 'spotify': None, 'naver': None, 'wechat': None, 'soundcloud': None}, 'rate': 51667.74585130906, 'volume': 10164963739, 'cap': 1014583043271, 'liquidity': 939767189, 'delta': {'hour': 1, 'day': 1.0172, 'week': 0.9976, 'month': 1.2906, 'quarter': 1.3759, 'year': 2.2192}}\",\n",
       " 8: \"{'name': 'Bitcoin', 'symbol': '₿', 'rank': 1, 'age': 3952, 'color': '#fa9e32', 'png32': 'https://lcw.nyc3.cdn.digitaloceanspaces.com/production/currencies/32/btc.png', 'png64': 'https://lcw.nyc3.cdn.digitaloceanspaces.com/production/currencies/64/btc.png', 'webp32': 'https://lcw.nyc3.cdn.digitaloceanspaces.com/production/currencies/32/btc.webp', 'webp64': 'https://lcw.nyc3.cdn.digitaloceanspaces.com/production/currencies/64/btc.webp', 'exchanges': 176, 'markets': 3085, 'pairs': 952, 'categories': [], 'allTimeHighUSD': 68780.77475755227, 'circulatingSupply': 19636681, 'totalSupply': 19636681, 'maxSupply': 21000000, 'links': {'website': 'https://bitcoin.org/', 'whitepaper': 'https://bitcoin.org/bitcoin.pdf', 'twitter': None, 'reddit': 'https://reddit.com/r/bitcoin', 'telegram': None, 'discord': None, 'medium': None, 'instagram': None, 'tiktok': None, 'youtube': None, 'linkedin': None, 'twitch': None, 'spotify': None, 'naver': None, 'wechat': None, 'soundcloud': None}, 'rate': 51662.3411041865, 'volume': 10120186157, 'cap': 1014476911976, 'liquidity': 939901905, 'delta': {'hour': 0.9998, 'day': 1.0171, 'week': 0.9975, 'month': 1.2905, 'quarter': 1.3758, 'year': 2.219}}\",\n",
       " 9: \"{'name': 'Bitcoin', 'symbol': '₿', 'rank': 1, 'age': 3952, 'color': '#fa9e32', 'png32': 'https://lcw.nyc3.cdn.digitaloceanspaces.com/production/currencies/32/btc.png', 'png64': 'https://lcw.nyc3.cdn.digitaloceanspaces.com/production/currencies/64/btc.png', 'webp32': 'https://lcw.nyc3.cdn.digitaloceanspaces.com/production/currencies/32/btc.webp', 'webp64': 'https://lcw.nyc3.cdn.digitaloceanspaces.com/production/currencies/64/btc.webp', 'exchanges': 176, 'markets': 3085, 'pairs': 952, 'categories': [], 'allTimeHighUSD': 68780.77475755227, 'circulatingSupply': 19636681, 'totalSupply': 19636681, 'maxSupply': 21000000, 'links': {'website': 'https://bitcoin.org/', 'whitepaper': 'https://bitcoin.org/bitcoin.pdf', 'twitter': None, 'reddit': 'https://reddit.com/r/bitcoin', 'telegram': None, 'discord': None, 'medium': None, 'instagram': None, 'tiktok': None, 'youtube': None, 'linkedin': None, 'twitch': None, 'spotify': None, 'naver': None, 'wechat': None, 'soundcloud': None}, 'rate': 51656.04599269797, 'volume': 10110368333, 'cap': 1014353296880, 'liquidity': 942640916, 'delta': {'hour': 0.9984, 'day': 1.0173, 'week': 0.9969, 'month': 1.2909, 'quarter': 1.3773, 'year': 2.2201}}\",\n",
       " 10: \"{'name': 'Bitcoin', 'symbol': '₿', 'rank': 1, 'age': 3952, 'color': '#fa9e32', 'png32': 'https://lcw.nyc3.cdn.digitaloceanspaces.com/production/currencies/32/btc.png', 'png64': 'https://lcw.nyc3.cdn.digitaloceanspaces.com/production/currencies/64/btc.png', 'webp32': 'https://lcw.nyc3.cdn.digitaloceanspaces.com/production/currencies/32/btc.webp', 'webp64': 'https://lcw.nyc3.cdn.digitaloceanspaces.com/production/currencies/64/btc.webp', 'exchanges': 176, 'markets': 3085, 'pairs': 952, 'categories': [], 'allTimeHighUSD': 68780.77475755227, 'circulatingSupply': 19636843, 'totalSupply': 19636843, 'maxSupply': 21000000, 'links': {'website': 'https://bitcoin.org/', 'whitepaper': 'https://bitcoin.org/bitcoin.pdf', 'twitter': None, 'reddit': 'https://reddit.com/r/bitcoin', 'telegram': None, 'discord': None, 'medium': None, 'instagram': None, 'tiktok': None, 'youtube': None, 'linkedin': None, 'twitch': None, 'spotify': None, 'naver': None, 'wechat': None, 'soundcloud': None}, 'rate': 51654.232810106565, 'volume': 10105565562, 'cap': 1014326059978, 'liquidity': 935000859, 'delta': {'hour': 0.9984, 'day': 1.0173, 'week': 0.9969, 'month': 1.2908, 'quarter': 1.3772, 'year': 2.22}}\",\n",
       " 11: \"{'error': {'code': 502, 'status': 'Bad Gateway', 'description': 'Server, while acting as a gateway or proxy, received an invalid response from an inbound server it accessed while attempting to fulfill the request.'}}\",\n",
       " 12: \"{'name': 'Bitcoin', 'symbol': '₿', 'rank': 1, 'age': 3952, 'color': '#fa9e32', 'png32': 'https://lcw.nyc3.cdn.digitaloceanspaces.com/production/currencies/32/btc.png', 'png64': 'https://lcw.nyc3.cdn.digitaloceanspaces.com/production/currencies/64/btc.png', 'webp32': 'https://lcw.nyc3.cdn.digitaloceanspaces.com/production/currencies/32/btc.webp', 'webp64': 'https://lcw.nyc3.cdn.digitaloceanspaces.com/production/currencies/64/btc.webp', 'exchanges': 177, 'markets': 3050, 'pairs': 941, 'categories': [], 'allTimeHighUSD': 68780.77475755227, 'circulatingSupply': 19637731, 'totalSupply': 19637731, 'maxSupply': 21000000, 'links': {'website': 'https://bitcoin.org/', 'whitepaper': 'https://bitcoin.org/bitcoin.pdf', 'twitter': None, 'reddit': 'https://reddit.com/r/bitcoin', 'telegram': None, 'discord': None, 'medium': None, 'instagram': None, 'tiktok': None, 'youtube': None, 'linkedin': None, 'twitch': None, 'spotify': None, 'naver': None, 'wechat': None, 'soundcloud': None}, 'rate': 51865.45097794174, 'volume': 11375531506, 'cap': 1018519774499, 'liquidity': 917478887, 'delta': {'hour': 1.0007, 'day': 1.0027, 'week': 0.9908, 'month': 1.2377, 'quarter': 1.3997, 'year': 2.2435}}\",\n",
       " 13: \"{'name': 'Bitcoin', 'symbol': '₿', 'rank': 1, 'age': 3952, 'color': '#fa9e32', 'png32': 'https://lcw.nyc3.cdn.digitaloceanspaces.com/production/currencies/32/btc.png', 'png64': 'https://lcw.nyc3.cdn.digitaloceanspaces.com/production/currencies/64/btc.png', 'webp32': 'https://lcw.nyc3.cdn.digitaloceanspaces.com/production/currencies/32/btc.webp', 'webp64': 'https://lcw.nyc3.cdn.digitaloceanspaces.com/production/currencies/64/btc.webp', 'exchanges': 177, 'markets': 3050, 'pairs': 941, 'categories': [], 'allTimeHighUSD': 68780.77475755227, 'circulatingSupply': 19637731, 'totalSupply': 19637731, 'maxSupply': 21000000, 'links': {'website': 'https://bitcoin.org/', 'whitepaper': 'https://bitcoin.org/bitcoin.pdf', 'twitter': None, 'reddit': 'https://reddit.com/r/bitcoin', 'telegram': None, 'discord': None, 'medium': None, 'instagram': None, 'tiktok': None, 'youtube': None, 'linkedin': None, 'twitch': None, 'spotify': None, 'naver': None, 'wechat': None, 'soundcloud': None}, 'rate': 51869.60098729594, 'volume': 11380688635, 'cap': 1018601271266, 'liquidity': 922704378, 'delta': {'hour': 1.0008, 'day': 1.0028, 'week': 0.9909, 'month': 1.2378, 'quarter': 1.3998, 'year': 2.2437}}\",\n",
       " 14: \"{'name': 'Bitcoin', 'symbol': '₿', 'rank': 1, 'age': 3952, 'color': '#fa9e32', 'png32': 'https://lcw.nyc3.cdn.digitaloceanspaces.com/production/currencies/32/btc.png', 'png64': 'https://lcw.nyc3.cdn.digitaloceanspaces.com/production/currencies/64/btc.png', 'webp32': 'https://lcw.nyc3.cdn.digitaloceanspaces.com/production/currencies/32/btc.webp', 'webp64': 'https://lcw.nyc3.cdn.digitaloceanspaces.com/production/currencies/64/btc.webp', 'exchanges': 177, 'markets': 3050, 'pairs': 941, 'categories': [], 'allTimeHighUSD': 68780.77475755227, 'circulatingSupply': 19637731, 'totalSupply': 19637731, 'maxSupply': 21000000, 'links': {'website': 'https://bitcoin.org/', 'whitepaper': 'https://bitcoin.org/bitcoin.pdf', 'twitter': None, 'reddit': 'https://reddit.com/r/bitcoin', 'telegram': None, 'discord': None, 'medium': None, 'instagram': None, 'tiktok': None, 'youtube': None, 'linkedin': None, 'twitch': None, 'spotify': None, 'naver': None, 'wechat': None, 'soundcloud': None}, 'rate': 51881.267172849395, 'volume': 11382047457, 'cap': 1018830368680, 'liquidity': 925454825, 'delta': {'hour': 1.0013, 'day': 1.0027, 'week': 0.9904, 'month': 1.237, 'quarter': 1.4005, 'year': 2.2433}}\"}"
      ]
     },
     "execution_count": 10,
     "metadata": {},
     "output_type": "execute_result"
    }
   ],
   "source": [
    "dat = pd.read_csv(\"cryto_data.csv\")\n",
    "dat = dat['value'].to_dict()\n",
    "# dat = pd.DataFrame(dat['value'])\n",
    "dat"
   ]
  },
  {
   "cell_type": "code",
   "execution_count": null,
   "metadata": {},
   "outputs": [],
   "source": []
  }
 ],
 "metadata": {
  "kernelspec": {
   "display_name": "Python 3",
   "language": "python",
   "name": "python3"
  },
  "language_info": {
   "codemirror_mode": {
    "name": "ipython",
    "version": 3
   },
   "file_extension": ".py",
   "mimetype": "text/x-python",
   "name": "python",
   "nbconvert_exporter": "python",
   "pygments_lexer": "ipython3",
   "version": "3.9.13"
  }
 },
 "nbformat": 4,
 "nbformat_minor": 2
}
