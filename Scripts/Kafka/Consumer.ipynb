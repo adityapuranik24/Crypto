{
 "cells": [
  {
   "cell_type": "code",
   "execution_count": 1,
   "metadata": {},
   "outputs": [],
   "source": [
    "from kafka import KafkaConsumer\n",
    "from time import sleep\n",
    "from json import dumps,loads\n",
    "import json\n",
    "import pandas as pd\n",
    "import openpyexcel\n",
    "import ast\n",
    "#from s3fs import S3FileSystem"
   ]
  },
  {
   "cell_type": "code",
   "execution_count": 2,
   "metadata": {},
   "outputs": [],
   "source": [
    "consumer = KafkaConsumer('crypto', bootstrap_servers=['3.17.23.28:9092'],\n",
    "           value_deserializer=lambda x: loads(x.decode('utf-8')))"
   ]
  },
  {
   "cell_type": "code",
   "execution_count": 3,
   "metadata": {},
   "outputs": [
    {
     "name": "stdout",
     "output_type": "stream",
     "text": [
      "<class 'kafka.consumer.fetcher.ConsumerRecord'>\n"
     ]
    },
    {
     "ename": "KeyboardInterrupt",
     "evalue": "",
     "output_type": "error",
     "traceback": [
      "\u001b[1;31m---------------------------------------------------------------------------\u001b[0m",
      "\u001b[1;31mKeyboardInterrupt\u001b[0m                         Traceback (most recent call last)",
      "Cell \u001b[1;32mIn[3], line 5\u001b[0m\n\u001b[0;32m      3\u001b[0m msg_buffer \u001b[38;5;241m=\u001b[39m []\n\u001b[0;32m      4\u001b[0m buffer_size \u001b[38;5;241m=\u001b[39m \u001b[38;5;241m3\u001b[39m\n\u001b[1;32m----> 5\u001b[0m \u001b[38;5;28;01mfor\u001b[39;00m msg \u001b[38;5;129;01min\u001b[39;00m consumer:\n\u001b[0;32m      6\u001b[0m         \u001b[38;5;28mprint\u001b[39m(\u001b[38;5;28mtype\u001b[39m(msg))\n\u001b[0;32m      7\u001b[0m         msg_buffer\u001b[38;5;241m.\u001b[39mappend(msg)\n",
      "File \u001b[1;32mc:\\Users\\Asus\\AppData\\Local\\Programs\\Python\\Python39\\lib\\site-packages\\kafka\\consumer\\group.py:1181\u001b[0m, in \u001b[0;36mKafkaConsumer.__next__\u001b[1;34m(self)\u001b[0m\n\u001b[0;32m   1179\u001b[0m     \u001b[38;5;28;01mreturn\u001b[39;00m \u001b[38;5;28mself\u001b[39m\u001b[38;5;241m.\u001b[39mnext_v1()\n\u001b[0;32m   1180\u001b[0m \u001b[38;5;28;01melse\u001b[39;00m:\n\u001b[1;32m-> 1181\u001b[0m     \u001b[38;5;28;01mreturn\u001b[39;00m \u001b[38;5;28;43mself\u001b[39;49m\u001b[38;5;241;43m.\u001b[39;49m\u001b[43mnext_v2\u001b[49m\u001b[43m(\u001b[49m\u001b[43m)\u001b[49m\n",
      "File \u001b[1;32mc:\\Users\\Asus\\AppData\\Local\\Programs\\Python\\Python39\\lib\\site-packages\\kafka\\consumer\\group.py:1189\u001b[0m, in \u001b[0;36mKafkaConsumer.next_v2\u001b[1;34m(self)\u001b[0m\n\u001b[0;32m   1187\u001b[0m     \u001b[38;5;28mself\u001b[39m\u001b[38;5;241m.\u001b[39m_iterator \u001b[38;5;241m=\u001b[39m \u001b[38;5;28mself\u001b[39m\u001b[38;5;241m.\u001b[39m_message_generator_v2()\n\u001b[0;32m   1188\u001b[0m \u001b[38;5;28;01mtry\u001b[39;00m:\n\u001b[1;32m-> 1189\u001b[0m     \u001b[38;5;28;01mreturn\u001b[39;00m \u001b[38;5;28;43mnext\u001b[39;49m\u001b[43m(\u001b[49m\u001b[38;5;28;43mself\u001b[39;49m\u001b[38;5;241;43m.\u001b[39;49m\u001b[43m_iterator\u001b[49m\u001b[43m)\u001b[49m\n\u001b[0;32m   1190\u001b[0m \u001b[38;5;28;01mexcept\u001b[39;00m \u001b[38;5;167;01mStopIteration\u001b[39;00m:\n\u001b[0;32m   1191\u001b[0m     \u001b[38;5;28mself\u001b[39m\u001b[38;5;241m.\u001b[39m_iterator \u001b[38;5;241m=\u001b[39m \u001b[38;5;28;01mNone\u001b[39;00m\n",
      "File \u001b[1;32mc:\\Users\\Asus\\AppData\\Local\\Programs\\Python\\Python39\\lib\\site-packages\\kafka\\consumer\\group.py:1106\u001b[0m, in \u001b[0;36mKafkaConsumer._message_generator_v2\u001b[1;34m(self)\u001b[0m\n\u001b[0;32m   1104\u001b[0m \u001b[38;5;28;01mdef\u001b[39;00m \u001b[38;5;21m_message_generator_v2\u001b[39m(\u001b[38;5;28mself\u001b[39m):\n\u001b[0;32m   1105\u001b[0m     timeout_ms \u001b[38;5;241m=\u001b[39m \u001b[38;5;241m1000\u001b[39m \u001b[38;5;241m*\u001b[39m (\u001b[38;5;28mself\u001b[39m\u001b[38;5;241m.\u001b[39m_consumer_timeout \u001b[38;5;241m-\u001b[39m time\u001b[38;5;241m.\u001b[39mtime())\n\u001b[1;32m-> 1106\u001b[0m     record_map \u001b[38;5;241m=\u001b[39m \u001b[38;5;28;43mself\u001b[39;49m\u001b[38;5;241;43m.\u001b[39;49m\u001b[43mpoll\u001b[49m\u001b[43m(\u001b[49m\u001b[43mtimeout_ms\u001b[49m\u001b[38;5;241;43m=\u001b[39;49m\u001b[43mtimeout_ms\u001b[49m\u001b[43m,\u001b[49m\u001b[43m \u001b[49m\u001b[43mupdate_offsets\u001b[49m\u001b[38;5;241;43m=\u001b[39;49m\u001b[38;5;28;43;01mFalse\u001b[39;49;00m\u001b[43m)\u001b[49m\n\u001b[0;32m   1107\u001b[0m     \u001b[38;5;28;01mfor\u001b[39;00m tp, records \u001b[38;5;129;01min\u001b[39;00m six\u001b[38;5;241m.\u001b[39miteritems(record_map):\n\u001b[0;32m   1108\u001b[0m         \u001b[38;5;66;03m# Generators are stateful, and it is possible that the tp / records\u001b[39;00m\n\u001b[0;32m   1109\u001b[0m         \u001b[38;5;66;03m# here may become stale during iteration -- i.e., we seek to a\u001b[39;00m\n\u001b[0;32m   1110\u001b[0m         \u001b[38;5;66;03m# different offset, pause consumption, or lose assignment.\u001b[39;00m\n\u001b[0;32m   1111\u001b[0m         \u001b[38;5;28;01mfor\u001b[39;00m record \u001b[38;5;129;01min\u001b[39;00m records:\n\u001b[0;32m   1112\u001b[0m             \u001b[38;5;66;03m# is_fetchable(tp) should handle assignment changes and offset\u001b[39;00m\n\u001b[0;32m   1113\u001b[0m             \u001b[38;5;66;03m# resets; for all other changes (e.g., seeks) we'll rely on the\u001b[39;00m\n\u001b[0;32m   1114\u001b[0m             \u001b[38;5;66;03m# outer function destroying the existing iterator/generator\u001b[39;00m\n\u001b[0;32m   1115\u001b[0m             \u001b[38;5;66;03m# via self._iterator = None\u001b[39;00m\n",
      "File \u001b[1;32mc:\\Users\\Asus\\AppData\\Local\\Programs\\Python\\Python39\\lib\\site-packages\\kafka\\consumer\\group.py:645\u001b[0m, in \u001b[0;36mKafkaConsumer.poll\u001b[1;34m(self, timeout_ms, max_records, update_offsets)\u001b[0m\n\u001b[0;32m    643\u001b[0m remaining \u001b[38;5;241m=\u001b[39m timeout_ms\n\u001b[0;32m    644\u001b[0m \u001b[38;5;28;01mwhile\u001b[39;00m \u001b[38;5;28;01mTrue\u001b[39;00m:\n\u001b[1;32m--> 645\u001b[0m     records \u001b[38;5;241m=\u001b[39m \u001b[38;5;28;43mself\u001b[39;49m\u001b[38;5;241;43m.\u001b[39;49m\u001b[43m_poll_once\u001b[49m\u001b[43m(\u001b[49m\u001b[43mremaining\u001b[49m\u001b[43m,\u001b[49m\u001b[43m \u001b[49m\u001b[43mmax_records\u001b[49m\u001b[43m,\u001b[49m\u001b[43m \u001b[49m\u001b[43mupdate_offsets\u001b[49m\u001b[38;5;241;43m=\u001b[39;49m\u001b[43mupdate_offsets\u001b[49m\u001b[43m)\u001b[49m\n\u001b[0;32m    646\u001b[0m     \u001b[38;5;28;01mif\u001b[39;00m records:\n\u001b[0;32m    647\u001b[0m         \u001b[38;5;28;01mreturn\u001b[39;00m records\n",
      "File \u001b[1;32mc:\\Users\\Asus\\AppData\\Local\\Programs\\Python\\Python39\\lib\\site-packages\\kafka\\consumer\\group.py:692\u001b[0m, in \u001b[0;36mKafkaConsumer._poll_once\u001b[1;34m(self, timeout_ms, max_records, update_offsets)\u001b[0m\n\u001b[0;32m    689\u001b[0m     \u001b[38;5;28mself\u001b[39m\u001b[38;5;241m.\u001b[39m_client\u001b[38;5;241m.\u001b[39mpoll(timeout_ms\u001b[38;5;241m=\u001b[39m\u001b[38;5;241m0\u001b[39m)\n\u001b[0;32m    691\u001b[0m timeout_ms \u001b[38;5;241m=\u001b[39m \u001b[38;5;28mmin\u001b[39m(timeout_ms, \u001b[38;5;28mself\u001b[39m\u001b[38;5;241m.\u001b[39m_coordinator\u001b[38;5;241m.\u001b[39mtime_to_next_poll() \u001b[38;5;241m*\u001b[39m \u001b[38;5;241m1000\u001b[39m)\n\u001b[1;32m--> 692\u001b[0m \u001b[38;5;28;43mself\u001b[39;49m\u001b[38;5;241;43m.\u001b[39;49m\u001b[43m_client\u001b[49m\u001b[38;5;241;43m.\u001b[39;49m\u001b[43mpoll\u001b[49m\u001b[43m(\u001b[49m\u001b[43mtimeout_ms\u001b[49m\u001b[38;5;241;43m=\u001b[39;49m\u001b[43mtimeout_ms\u001b[49m\u001b[43m)\u001b[49m\n\u001b[0;32m    693\u001b[0m \u001b[38;5;66;03m# after the long poll, we should check whether the group needs to rebalance\u001b[39;00m\n\u001b[0;32m    694\u001b[0m \u001b[38;5;66;03m# prior to returning data so that the group can stabilize faster\u001b[39;00m\n\u001b[0;32m    695\u001b[0m \u001b[38;5;28;01mif\u001b[39;00m \u001b[38;5;28mself\u001b[39m\u001b[38;5;241m.\u001b[39m_coordinator\u001b[38;5;241m.\u001b[39mneed_rejoin():\n",
      "File \u001b[1;32mc:\\Users\\Asus\\AppData\\Local\\Programs\\Python\\Python39\\lib\\site-packages\\kafka\\client_async.py:598\u001b[0m, in \u001b[0;36mKafkaClient.poll\u001b[1;34m(self, timeout_ms, future)\u001b[0m\n\u001b[0;32m    595\u001b[0m             timeout \u001b[38;5;241m=\u001b[39m \u001b[38;5;28mmin\u001b[39m(timeout, \u001b[38;5;28mself\u001b[39m\u001b[38;5;241m.\u001b[39mconfig[\u001b[38;5;124m'\u001b[39m\u001b[38;5;124mretry_backoff_ms\u001b[39m\u001b[38;5;124m'\u001b[39m])\n\u001b[0;32m    596\u001b[0m         timeout \u001b[38;5;241m=\u001b[39m \u001b[38;5;28mmax\u001b[39m(\u001b[38;5;241m0\u001b[39m, timeout)  \u001b[38;5;66;03m# avoid negative timeouts\u001b[39;00m\n\u001b[1;32m--> 598\u001b[0m     \u001b[38;5;28;43mself\u001b[39;49m\u001b[38;5;241;43m.\u001b[39;49m\u001b[43m_poll\u001b[49m\u001b[43m(\u001b[49m\u001b[43mtimeout\u001b[49m\u001b[43m \u001b[49m\u001b[38;5;241;43m/\u001b[39;49m\u001b[43m \u001b[49m\u001b[38;5;241;43m1000\u001b[39;49m\u001b[43m)\u001b[49m\n\u001b[0;32m    600\u001b[0m \u001b[38;5;66;03m# called without the lock to avoid deadlock potential\u001b[39;00m\n\u001b[0;32m    601\u001b[0m \u001b[38;5;66;03m# if handlers need to acquire locks\u001b[39;00m\n\u001b[0;32m    602\u001b[0m responses\u001b[38;5;241m.\u001b[39mextend(\u001b[38;5;28mself\u001b[39m\u001b[38;5;241m.\u001b[39m_fire_pending_completed_requests())\n",
      "File \u001b[1;32mc:\\Users\\Asus\\AppData\\Local\\Programs\\Python\\Python39\\lib\\site-packages\\kafka\\client_async.py:630\u001b[0m, in \u001b[0;36mKafkaClient._poll\u001b[1;34m(self, timeout)\u001b[0m\n\u001b[0;32m    627\u001b[0m \u001b[38;5;28mself\u001b[39m\u001b[38;5;241m.\u001b[39m_register_send_sockets()\n\u001b[0;32m    629\u001b[0m start_select \u001b[38;5;241m=\u001b[39m time\u001b[38;5;241m.\u001b[39mtime()\n\u001b[1;32m--> 630\u001b[0m ready \u001b[38;5;241m=\u001b[39m \u001b[38;5;28;43mself\u001b[39;49m\u001b[38;5;241;43m.\u001b[39;49m\u001b[43m_selector\u001b[49m\u001b[38;5;241;43m.\u001b[39;49m\u001b[43mselect\u001b[49m\u001b[43m(\u001b[49m\u001b[43mtimeout\u001b[49m\u001b[43m)\u001b[49m\n\u001b[0;32m    631\u001b[0m end_select \u001b[38;5;241m=\u001b[39m time\u001b[38;5;241m.\u001b[39mtime()\n\u001b[0;32m    632\u001b[0m \u001b[38;5;28;01mif\u001b[39;00m \u001b[38;5;28mself\u001b[39m\u001b[38;5;241m.\u001b[39m_sensors:\n",
      "File \u001b[1;32mc:\\Users\\Asus\\AppData\\Local\\Programs\\Python\\Python39\\lib\\selectors.py:324\u001b[0m, in \u001b[0;36mSelectSelector.select\u001b[1;34m(self, timeout)\u001b[0m\n\u001b[0;32m    322\u001b[0m ready \u001b[38;5;241m=\u001b[39m []\n\u001b[0;32m    323\u001b[0m \u001b[38;5;28;01mtry\u001b[39;00m:\n\u001b[1;32m--> 324\u001b[0m     r, w, _ \u001b[38;5;241m=\u001b[39m \u001b[38;5;28;43mself\u001b[39;49m\u001b[38;5;241;43m.\u001b[39;49m\u001b[43m_select\u001b[49m\u001b[43m(\u001b[49m\u001b[38;5;28;43mself\u001b[39;49m\u001b[38;5;241;43m.\u001b[39;49m\u001b[43m_readers\u001b[49m\u001b[43m,\u001b[49m\u001b[43m \u001b[49m\u001b[38;5;28;43mself\u001b[39;49m\u001b[38;5;241;43m.\u001b[39;49m\u001b[43m_writers\u001b[49m\u001b[43m,\u001b[49m\u001b[43m \u001b[49m\u001b[43m[\u001b[49m\u001b[43m]\u001b[49m\u001b[43m,\u001b[49m\u001b[43m \u001b[49m\u001b[43mtimeout\u001b[49m\u001b[43m)\u001b[49m\n\u001b[0;32m    325\u001b[0m \u001b[38;5;28;01mexcept\u001b[39;00m \u001b[38;5;167;01mInterruptedError\u001b[39;00m:\n\u001b[0;32m    326\u001b[0m     \u001b[38;5;28;01mreturn\u001b[39;00m ready\n",
      "File \u001b[1;32mc:\\Users\\Asus\\AppData\\Local\\Programs\\Python\\Python39\\lib\\selectors.py:315\u001b[0m, in \u001b[0;36mSelectSelector._select\u001b[1;34m(self, r, w, _, timeout)\u001b[0m\n\u001b[0;32m    314\u001b[0m \u001b[38;5;28;01mdef\u001b[39;00m \u001b[38;5;21m_select\u001b[39m(\u001b[38;5;28mself\u001b[39m, r, w, _, timeout\u001b[38;5;241m=\u001b[39m\u001b[38;5;28;01mNone\u001b[39;00m):\n\u001b[1;32m--> 315\u001b[0m     r, w, x \u001b[38;5;241m=\u001b[39m \u001b[43mselect\u001b[49m\u001b[38;5;241;43m.\u001b[39;49m\u001b[43mselect\u001b[49m\u001b[43m(\u001b[49m\u001b[43mr\u001b[49m\u001b[43m,\u001b[49m\u001b[43m \u001b[49m\u001b[43mw\u001b[49m\u001b[43m,\u001b[49m\u001b[43m \u001b[49m\u001b[43mw\u001b[49m\u001b[43m,\u001b[49m\u001b[43m \u001b[49m\u001b[43mtimeout\u001b[49m\u001b[43m)\u001b[49m\n\u001b[0;32m    316\u001b[0m     \u001b[38;5;28;01mreturn\u001b[39;00m r, w \u001b[38;5;241m+\u001b[39m x, []\n",
      "\u001b[1;31mKeyboardInterrupt\u001b[0m: "
     ]
    }
   ],
   "source": [
    "# for c in consumer:\n",
    "#     print(c.value)\n",
    "msg_buffer = []\n",
    "buffer_size = 3\n",
    "for msg in consumer:\n",
    "        print(msg)\n",
    "        msg_buffer.append(msg)\n",
    "        if len(msg_buffer) >= buffer_size:\n",
    "            existing_data = pd.read_csv(\"cryto_data.csv\")\n",
    "            new_data = pd.DataFrame(msg_buffer)\n",
    "            combined_data = pd.concat([existing_data, new_data], ignore_index=True)\n",
    "            df = combined_data.to_csv(\"cryto_data.csv\", index = False)\n",
    "            msg_buffer = []"
   ]
  },
  {
   "cell_type": "code",
   "execution_count": null,
   "metadata": {},
   "outputs": [],
   "source": [
    "# for c in consumer:\n",
    "#     print(c.value)\n",
    "msg_buffer = []\n",
    "buffer_size = 3\n",
    "for msg in consumer:\n",
    "        msg_buffer.append(msg)\n",
    "        if len(msg_buffer) >= buffer_size:\n",
    "            book_ro = open_workbook(\"data.xlsx\")\n",
    "            book = copy(book_ro)  # creates a writeable copy\n",
    "            for msg in msg_buffer:\n",
    "                sheet1 = book.get_sheet(0)  # get a first sheet\n",
    "                sheet1.write(rowx,colx, _msg)\n",
    "            book.save(\"data.xls\")\n",
    "            msg_buffer = []"
   ]
  },
  {
   "cell_type": "code",
   "execution_count": 10,
   "metadata": {},
   "outputs": [
    {
     "data": {
      "text/plain": [
       "{0: \"{'name': 'Bitcoin', 'symbol': '₿', 'rank': 1, 'age': 3952, 'color': '#fa9e32', 'png32': 'https://lcw.nyc3.cdn.digitaloceanspaces.com/production/currencies/32/btc.png', 'png64': 'https://lcw.nyc3.cdn.digitaloceanspaces.com/production/currencies/64/btc.png', 'webp32': 'https://lcw.nyc3.cdn.digitaloceanspaces.com/production/currencies/32/btc.webp', 'webp64': 'https://lcw.nyc3.cdn.digitaloceanspaces.com/production/currencies/64/btc.webp', 'exchanges': 176, 'markets': 3086, 'pairs': 952, 'categories': [], 'allTimeHighUSD': 68780.77475755227, 'circulatingSupply': 19636681, 'totalSupply': 19636681, 'maxSupply': 21000000, 'links': {'website': 'https://bitcoin.org/', 'whitepaper': 'https://bitcoin.org/bitcoin.pdf', 'twitter': None, 'reddit': 'https://reddit.com/r/bitcoin', 'telegram': None, 'discord': None, 'medium': None, 'instagram': None, 'tiktok': None, 'youtube': None, 'linkedin': None, 'twitch': None, 'spotify': None, 'naver': None, 'wechat': None, 'soundcloud': None}, 'rate': 51685.52144608645, 'volume': 10237971037, 'cap': 1014932096955, 'liquidity': 919648761, 'delta': {'hour': 1, 'day': 1.0175, 'week': 0.9975, 'month': 1.2912, 'quarter': 1.3753, 'year': 2.2199}}\",\n",
       " 1: \"{'name': 'Bitcoin', 'symbol': '₿', 'rank': 1, 'age': 3952, 'color': '#fa9e32', 'png32': 'https://lcw.nyc3.cdn.digitaloceanspaces.com/production/currencies/32/btc.png', 'png64': 'https://lcw.nyc3.cdn.digitaloceanspaces.com/production/currencies/64/btc.png', 'webp32': 'https://lcw.nyc3.cdn.digitaloceanspaces.com/production/currencies/32/btc.webp', 'webp64': 'https://lcw.nyc3.cdn.digitaloceanspaces.com/production/currencies/64/btc.webp', 'exchanges': 176, 'markets': 3086, 'pairs': 952, 'categories': [], 'allTimeHighUSD': 68780.77475755227, 'circulatingSupply': 19636681, 'totalSupply': 19636681, 'maxSupply': 21000000, 'links': {'website': 'https://bitcoin.org/', 'whitepaper': 'https://bitcoin.org/bitcoin.pdf', 'twitter': None, 'reddit': 'https://reddit.com/r/bitcoin', 'telegram': None, 'discord': None, 'medium': None, 'instagram': None, 'tiktok': None, 'youtube': None, 'linkedin': None, 'twitch': None, 'spotify': None, 'naver': None, 'wechat': None, 'soundcloud': None}, 'rate': 51686.692385674025, 'volume': 10183454977, 'cap': 1014955090323, 'liquidity': 920374172, 'delta': {'hour': 1, 'day': 1.0175, 'week': 0.9975, 'month': 1.2912, 'quarter': 1.3753, 'year': 2.2199}}\",\n",
       " 2: \"{'name': 'Bitcoin', 'symbol': '₿', 'rank': 1, 'age': 3952, 'color': '#fa9e32', 'png32': 'https://lcw.nyc3.cdn.digitaloceanspaces.com/production/currencies/32/btc.png', 'png64': 'https://lcw.nyc3.cdn.digitaloceanspaces.com/production/currencies/64/btc.png', 'webp32': 'https://lcw.nyc3.cdn.digitaloceanspaces.com/production/currencies/32/btc.webp', 'webp64': 'https://lcw.nyc3.cdn.digitaloceanspaces.com/production/currencies/64/btc.webp', 'exchanges': 176, 'markets': 3087, 'pairs': 952, 'categories': [], 'allTimeHighUSD': 68780.77475755227, 'circulatingSupply': 19636681, 'totalSupply': 19636681, 'maxSupply': 21000000, 'links': {'website': 'https://bitcoin.org/', 'whitepaper': 'https://bitcoin.org/bitcoin.pdf', 'twitter': None, 'reddit': 'https://reddit.com/r/bitcoin', 'telegram': None, 'discord': None, 'medium': None, 'instagram': None, 'tiktok': None, 'youtube': None, 'linkedin': None, 'twitch': None, 'spotify': None, 'naver': None, 'wechat': None, 'soundcloud': None}, 'rate': 51679.15833048191, 'volume': 10179203834, 'cap': 1014807146484, 'liquidity': 923238525, 'delta': {'hour': 0.9998, 'day': 1.0173, 'week': 0.9974, 'month': 1.2911, 'quarter': 1.3751, 'year': 2.2196}}\",\n",
       " 3: \"{'name': 'Bitcoin', 'symbol': '₿', 'rank': 1, 'age': 3952, 'color': '#fa9e32', 'png32': 'https://lcw.nyc3.cdn.digitaloceanspaces.com/production/currencies/32/btc.png', 'png64': 'https://lcw.nyc3.cdn.digitaloceanspaces.com/production/currencies/64/btc.png', 'webp32': 'https://lcw.nyc3.cdn.digitaloceanspaces.com/production/currencies/32/btc.webp', 'webp64': 'https://lcw.nyc3.cdn.digitaloceanspaces.com/production/currencies/64/btc.webp', 'exchanges': 176, 'markets': 3085, 'pairs': 952, 'categories': [], 'allTimeHighUSD': 68780.77475755227, 'circulatingSupply': 19636681, 'totalSupply': 19636681, 'maxSupply': 21000000, 'links': {'website': 'https://bitcoin.org/', 'whitepaper': 'https://bitcoin.org/bitcoin.pdf', 'twitter': None, 'reddit': 'https://reddit.com/r/bitcoin', 'telegram': None, 'discord': None, 'medium': None, 'instagram': None, 'tiktok': None, 'youtube': None, 'linkedin': None, 'twitch': None, 'spotify': None, 'naver': None, 'wechat': None, 'soundcloud': None}, 'rate': 51664.08854030231, 'volume': 10130836071, 'cap': 1014511225822, 'liquidity': 939921174, 'delta': {'hour': 0.9999, 'day': 1.0171, 'week': 0.9975, 'month': 1.2905, 'quarter': 1.3758, 'year': 2.2191}}\",\n",
       " 4: \"{'name': 'Bitcoin', 'symbol': '₿', 'rank': 1, 'age': 3952, 'color': '#fa9e32', 'png32': 'https://lcw.nyc3.cdn.digitaloceanspaces.com/production/currencies/32/btc.png', 'png64': 'https://lcw.nyc3.cdn.digitaloceanspaces.com/production/currencies/64/btc.png', 'webp32': 'https://lcw.nyc3.cdn.digitaloceanspaces.com/production/currencies/32/btc.webp', 'webp64': 'https://lcw.nyc3.cdn.digitaloceanspaces.com/production/currencies/64/btc.webp', 'exchanges': 176, 'markets': 3085, 'pairs': 952, 'categories': [], 'allTimeHighUSD': 68780.77475755227, 'circulatingSupply': 19636681, 'totalSupply': 19636681, 'maxSupply': 21000000, 'links': {'website': 'https://bitcoin.org/', 'whitepaper': 'https://bitcoin.org/bitcoin.pdf', 'twitter': None, 'reddit': 'https://reddit.com/r/bitcoin', 'telegram': None, 'discord': None, 'medium': None, 'instagram': None, 'tiktok': None, 'youtube': None, 'linkedin': None, 'twitch': None, 'spotify': None, 'naver': None, 'wechat': None, 'soundcloud': None}, 'rate': 51666.30160584466, 'volume': 10130141242, 'cap': 1014554683084, 'liquidity': 942473875, 'delta': {'hour': 0.9999, 'day': 1.0171, 'week': 0.9975, 'month': 1.2906, 'quarter': 1.3759, 'year': 2.2192}}\",\n",
       " 5: \"{'name': 'Bitcoin', 'symbol': '₿', 'rank': 1, 'age': 3952, 'color': '#fa9e32', 'png32': 'https://lcw.nyc3.cdn.digitaloceanspaces.com/production/currencies/32/btc.png', 'png64': 'https://lcw.nyc3.cdn.digitaloceanspaces.com/production/currencies/64/btc.png', 'webp32': 'https://lcw.nyc3.cdn.digitaloceanspaces.com/production/currencies/32/btc.webp', 'webp64': 'https://lcw.nyc3.cdn.digitaloceanspaces.com/production/currencies/64/btc.webp', 'exchanges': 176, 'markets': 3085, 'pairs': 952, 'categories': [], 'allTimeHighUSD': 68780.77475755227, 'circulatingSupply': 19636681, 'totalSupply': 19636681, 'maxSupply': 21000000, 'links': {'website': 'https://bitcoin.org/', 'whitepaper': 'https://bitcoin.org/bitcoin.pdf', 'twitter': None, 'reddit': 'https://reddit.com/r/bitcoin', 'telegram': None, 'discord': None, 'medium': None, 'instagram': None, 'tiktok': None, 'youtube': None, 'linkedin': None, 'twitch': None, 'spotify': None, 'naver': None, 'wechat': None, 'soundcloud': None}, 'rate': 51666.62362910907, 'volume': 10129211786, 'cap': 1014561006552, 'liquidity': 943427203, 'delta': {'hour': 0.9999, 'day': 1.0171, 'week': 0.9976, 'month': 1.2906, 'quarter': 1.3759, 'year': 2.2192}}\",\n",
       " 6: \"{'name': 'Bitcoin', 'symbol': '₿', 'rank': 1, 'age': 3952, 'color': '#fa9e32', 'png32': 'https://lcw.nyc3.cdn.digitaloceanspaces.com/production/currencies/32/btc.png', 'png64': 'https://lcw.nyc3.cdn.digitaloceanspaces.com/production/currencies/64/btc.png', 'webp32': 'https://lcw.nyc3.cdn.digitaloceanspaces.com/production/currencies/32/btc.webp', 'webp64': 'https://lcw.nyc3.cdn.digitaloceanspaces.com/production/currencies/64/btc.webp', 'exchanges': 176, 'markets': 3085, 'pairs': 952, 'categories': [], 'allTimeHighUSD': 68780.77475755227, 'circulatingSupply': 19636681, 'totalSupply': 19636681, 'maxSupply': 21000000, 'links': {'website': 'https://bitcoin.org/', 'whitepaper': 'https://bitcoin.org/bitcoin.pdf', 'twitter': None, 'reddit': 'https://reddit.com/r/bitcoin', 'telegram': None, 'discord': None, 'medium': None, 'instagram': None, 'tiktok': None, 'youtube': None, 'linkedin': None, 'twitch': None, 'spotify': None, 'naver': None, 'wechat': None, 'soundcloud': None}, 'rate': 51663.31857177463, 'volume': 10165347751, 'cap': 1014496106195, 'liquidity': 941323490, 'delta': {'hour': 0.9999, 'day': 1.0171, 'week': 0.9975, 'month': 1.2905, 'quarter': 1.3758, 'year': 2.2191}}\",\n",
       " 7: \"{'name': 'Bitcoin', 'symbol': '₿', 'rank': 1, 'age': 3952, 'color': '#fa9e32', 'png32': 'https://lcw.nyc3.cdn.digitaloceanspaces.com/production/currencies/32/btc.png', 'png64': 'https://lcw.nyc3.cdn.digitaloceanspaces.com/production/currencies/64/btc.png', 'webp32': 'https://lcw.nyc3.cdn.digitaloceanspaces.com/production/currencies/32/btc.webp', 'webp64': 'https://lcw.nyc3.cdn.digitaloceanspaces.com/production/currencies/64/btc.webp', 'exchanges': 176, 'markets': 3085, 'pairs': 952, 'categories': [], 'allTimeHighUSD': 68780.77475755227, 'circulatingSupply': 19636681, 'totalSupply': 19636681, 'maxSupply': 21000000, 'links': {'website': 'https://bitcoin.org/', 'whitepaper': 'https://bitcoin.org/bitcoin.pdf', 'twitter': None, 'reddit': 'https://reddit.com/r/bitcoin', 'telegram': None, 'discord': None, 'medium': None, 'instagram': None, 'tiktok': None, 'youtube': None, 'linkedin': None, 'twitch': None, 'spotify': None, 'naver': None, 'wechat': None, 'soundcloud': None}, 'rate': 51667.74585130906, 'volume': 10164963739, 'cap': 1014583043271, 'liquidity': 939767189, 'delta': {'hour': 1, 'day': 1.0172, 'week': 0.9976, 'month': 1.2906, 'quarter': 1.3759, 'year': 2.2192}}\",\n",
       " 8: \"{'name': 'Bitcoin', 'symbol': '₿', 'rank': 1, 'age': 3952, 'color': '#fa9e32', 'png32': 'https://lcw.nyc3.cdn.digitaloceanspaces.com/production/currencies/32/btc.png', 'png64': 'https://lcw.nyc3.cdn.digitaloceanspaces.com/production/currencies/64/btc.png', 'webp32': 'https://lcw.nyc3.cdn.digitaloceanspaces.com/production/currencies/32/btc.webp', 'webp64': 'https://lcw.nyc3.cdn.digitaloceanspaces.com/production/currencies/64/btc.webp', 'exchanges': 176, 'markets': 3085, 'pairs': 952, 'categories': [], 'allTimeHighUSD': 68780.77475755227, 'circulatingSupply': 19636681, 'totalSupply': 19636681, 'maxSupply': 21000000, 'links': {'website': 'https://bitcoin.org/', 'whitepaper': 'https://bitcoin.org/bitcoin.pdf', 'twitter': None, 'reddit': 'https://reddit.com/r/bitcoin', 'telegram': None, 'discord': None, 'medium': None, 'instagram': None, 'tiktok': None, 'youtube': None, 'linkedin': None, 'twitch': None, 'spotify': None, 'naver': None, 'wechat': None, 'soundcloud': None}, 'rate': 51662.3411041865, 'volume': 10120186157, 'cap': 1014476911976, 'liquidity': 939901905, 'delta': {'hour': 0.9998, 'day': 1.0171, 'week': 0.9975, 'month': 1.2905, 'quarter': 1.3758, 'year': 2.219}}\",\n",
       " 9: \"{'name': 'Bitcoin', 'symbol': '₿', 'rank': 1, 'age': 3952, 'color': '#fa9e32', 'png32': 'https://lcw.nyc3.cdn.digitaloceanspaces.com/production/currencies/32/btc.png', 'png64': 'https://lcw.nyc3.cdn.digitaloceanspaces.com/production/currencies/64/btc.png', 'webp32': 'https://lcw.nyc3.cdn.digitaloceanspaces.com/production/currencies/32/btc.webp', 'webp64': 'https://lcw.nyc3.cdn.digitaloceanspaces.com/production/currencies/64/btc.webp', 'exchanges': 176, 'markets': 3085, 'pairs': 952, 'categories': [], 'allTimeHighUSD': 68780.77475755227, 'circulatingSupply': 19636681, 'totalSupply': 19636681, 'maxSupply': 21000000, 'links': {'website': 'https://bitcoin.org/', 'whitepaper': 'https://bitcoin.org/bitcoin.pdf', 'twitter': None, 'reddit': 'https://reddit.com/r/bitcoin', 'telegram': None, 'discord': None, 'medium': None, 'instagram': None, 'tiktok': None, 'youtube': None, 'linkedin': None, 'twitch': None, 'spotify': None, 'naver': None, 'wechat': None, 'soundcloud': None}, 'rate': 51656.04599269797, 'volume': 10110368333, 'cap': 1014353296880, 'liquidity': 942640916, 'delta': {'hour': 0.9984, 'day': 1.0173, 'week': 0.9969, 'month': 1.2909, 'quarter': 1.3773, 'year': 2.2201}}\",\n",
       " 10: \"{'name': 'Bitcoin', 'symbol': '₿', 'rank': 1, 'age': 3952, 'color': '#fa9e32', 'png32': 'https://lcw.nyc3.cdn.digitaloceanspaces.com/production/currencies/32/btc.png', 'png64': 'https://lcw.nyc3.cdn.digitaloceanspaces.com/production/currencies/64/btc.png', 'webp32': 'https://lcw.nyc3.cdn.digitaloceanspaces.com/production/currencies/32/btc.webp', 'webp64': 'https://lcw.nyc3.cdn.digitaloceanspaces.com/production/currencies/64/btc.webp', 'exchanges': 176, 'markets': 3085, 'pairs': 952, 'categories': [], 'allTimeHighUSD': 68780.77475755227, 'circulatingSupply': 19636843, 'totalSupply': 19636843, 'maxSupply': 21000000, 'links': {'website': 'https://bitcoin.org/', 'whitepaper': 'https://bitcoin.org/bitcoin.pdf', 'twitter': None, 'reddit': 'https://reddit.com/r/bitcoin', 'telegram': None, 'discord': None, 'medium': None, 'instagram': None, 'tiktok': None, 'youtube': None, 'linkedin': None, 'twitch': None, 'spotify': None, 'naver': None, 'wechat': None, 'soundcloud': None}, 'rate': 51654.232810106565, 'volume': 10105565562, 'cap': 1014326059978, 'liquidity': 935000859, 'delta': {'hour': 0.9984, 'day': 1.0173, 'week': 0.9969, 'month': 1.2908, 'quarter': 1.3772, 'year': 2.22}}\",\n",
       " 11: \"{'error': {'code': 502, 'status': 'Bad Gateway', 'description': 'Server, while acting as a gateway or proxy, received an invalid response from an inbound server it accessed while attempting to fulfill the request.'}}\",\n",
       " 12: \"{'name': 'Bitcoin', 'symbol': '₿', 'rank': 1, 'age': 3952, 'color': '#fa9e32', 'png32': 'https://lcw.nyc3.cdn.digitaloceanspaces.com/production/currencies/32/btc.png', 'png64': 'https://lcw.nyc3.cdn.digitaloceanspaces.com/production/currencies/64/btc.png', 'webp32': 'https://lcw.nyc3.cdn.digitaloceanspaces.com/production/currencies/32/btc.webp', 'webp64': 'https://lcw.nyc3.cdn.digitaloceanspaces.com/production/currencies/64/btc.webp', 'exchanges': 177, 'markets': 3050, 'pairs': 941, 'categories': [], 'allTimeHighUSD': 68780.77475755227, 'circulatingSupply': 19637731, 'totalSupply': 19637731, 'maxSupply': 21000000, 'links': {'website': 'https://bitcoin.org/', 'whitepaper': 'https://bitcoin.org/bitcoin.pdf', 'twitter': None, 'reddit': 'https://reddit.com/r/bitcoin', 'telegram': None, 'discord': None, 'medium': None, 'instagram': None, 'tiktok': None, 'youtube': None, 'linkedin': None, 'twitch': None, 'spotify': None, 'naver': None, 'wechat': None, 'soundcloud': None}, 'rate': 51865.45097794174, 'volume': 11375531506, 'cap': 1018519774499, 'liquidity': 917478887, 'delta': {'hour': 1.0007, 'day': 1.0027, 'week': 0.9908, 'month': 1.2377, 'quarter': 1.3997, 'year': 2.2435}}\",\n",
       " 13: \"{'name': 'Bitcoin', 'symbol': '₿', 'rank': 1, 'age': 3952, 'color': '#fa9e32', 'png32': 'https://lcw.nyc3.cdn.digitaloceanspaces.com/production/currencies/32/btc.png', 'png64': 'https://lcw.nyc3.cdn.digitaloceanspaces.com/production/currencies/64/btc.png', 'webp32': 'https://lcw.nyc3.cdn.digitaloceanspaces.com/production/currencies/32/btc.webp', 'webp64': 'https://lcw.nyc3.cdn.digitaloceanspaces.com/production/currencies/64/btc.webp', 'exchanges': 177, 'markets': 3050, 'pairs': 941, 'categories': [], 'allTimeHighUSD': 68780.77475755227, 'circulatingSupply': 19637731, 'totalSupply': 19637731, 'maxSupply': 21000000, 'links': {'website': 'https://bitcoin.org/', 'whitepaper': 'https://bitcoin.org/bitcoin.pdf', 'twitter': None, 'reddit': 'https://reddit.com/r/bitcoin', 'telegram': None, 'discord': None, 'medium': None, 'instagram': None, 'tiktok': None, 'youtube': None, 'linkedin': None, 'twitch': None, 'spotify': None, 'naver': None, 'wechat': None, 'soundcloud': None}, 'rate': 51869.60098729594, 'volume': 11380688635, 'cap': 1018601271266, 'liquidity': 922704378, 'delta': {'hour': 1.0008, 'day': 1.0028, 'week': 0.9909, 'month': 1.2378, 'quarter': 1.3998, 'year': 2.2437}}\",\n",
       " 14: \"{'name': 'Bitcoin', 'symbol': '₿', 'rank': 1, 'age': 3952, 'color': '#fa9e32', 'png32': 'https://lcw.nyc3.cdn.digitaloceanspaces.com/production/currencies/32/btc.png', 'png64': 'https://lcw.nyc3.cdn.digitaloceanspaces.com/production/currencies/64/btc.png', 'webp32': 'https://lcw.nyc3.cdn.digitaloceanspaces.com/production/currencies/32/btc.webp', 'webp64': 'https://lcw.nyc3.cdn.digitaloceanspaces.com/production/currencies/64/btc.webp', 'exchanges': 177, 'markets': 3050, 'pairs': 941, 'categories': [], 'allTimeHighUSD': 68780.77475755227, 'circulatingSupply': 19637731, 'totalSupply': 19637731, 'maxSupply': 21000000, 'links': {'website': 'https://bitcoin.org/', 'whitepaper': 'https://bitcoin.org/bitcoin.pdf', 'twitter': None, 'reddit': 'https://reddit.com/r/bitcoin', 'telegram': None, 'discord': None, 'medium': None, 'instagram': None, 'tiktok': None, 'youtube': None, 'linkedin': None, 'twitch': None, 'spotify': None, 'naver': None, 'wechat': None, 'soundcloud': None}, 'rate': 51881.267172849395, 'volume': 11382047457, 'cap': 1018830368680, 'liquidity': 925454825, 'delta': {'hour': 1.0013, 'day': 1.0027, 'week': 0.9904, 'month': 1.237, 'quarter': 1.4005, 'year': 2.2433}}\"}"
      ]
     },
     "execution_count": 10,
     "metadata": {},
     "output_type": "execute_result"
    }
   ],
   "source": [
    "dat = pd.read_csv(\"cryto_data.csv\")\n",
    "dat = dat['value'].to_dict()\n",
    "# dat = pd.DataFrame(dat['value'])\n",
    "dat"
   ]
  },
  {
   "cell_type": "code",
   "execution_count": null,
   "metadata": {},
   "outputs": [],
   "source": []
  }
 ],
 "metadata": {
  "kernelspec": {
   "display_name": "Python 3",
   "language": "python",
   "name": "python3"
  },
  "language_info": {
   "codemirror_mode": {
    "name": "ipython",
    "version": 3
   },
   "file_extension": ".py",
   "mimetype": "text/x-python",
   "name": "python",
   "nbconvert_exporter": "python",
   "pygments_lexer": "ipython3",
   "version": "3.9.13"
  }
 },
 "nbformat": 4,
 "nbformat_minor": 2
}
