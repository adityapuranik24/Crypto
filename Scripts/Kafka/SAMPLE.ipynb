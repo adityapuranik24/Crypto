{
 "cells": [
  {
   "cell_type": "code",
   "execution_count": 1,
   "metadata": {},
   "outputs": [],
   "source": [
    "import sys\n",
    "import datetime\n",
    "from datetime import datetime"
   ]
  },
  {
   "cell_type": "code",
   "execution_count": 11,
   "metadata": {},
   "outputs": [
    {
     "name": "stdout",
     "output_type": "stream",
     "text": [
      "15:21:31\n",
      "5\n",
      "June\n",
      "6\n",
      "2024\n",
      "05 JUNE 2024\n"
     ]
    }
   ],
   "source": [
    "current_time = datetime.now().time()\n",
    "current_time = current_time.strftime(\"%H:%M:%S\")\n",
    "print(current_time)\n",
    "\n",
    "# getting current date\n",
    "current_date = datetime.now()\n",
    "current_day = current_date.day\n",
    "current_month_name = current_date.strftime(\"%B\")\n",
    "current_month = current_date.month\n",
    "current_year = current_date.year\n",
    "current_date_updated = current_date.strftime(\"%d %B %Y\").upper()\n",
    "print(current_day)\n",
    "print(current_month_name)\n",
    "print(current_month)\n",
    "print(current_year)\n",
    "print(current_date_updated)"
   ]
  },
  {
   "cell_type": "code",
   "execution_count": null,
   "metadata": {},
   "outputs": [],
   "source": []
  }
 ],
 "metadata": {
  "kernelspec": {
   "display_name": "Python 3",
   "language": "python",
   "name": "python3"
  },
  "language_info": {
   "codemirror_mode": {
    "name": "ipython",
    "version": 3
   },
   "file_extension": ".py",
   "mimetype": "text/x-python",
   "name": "python",
   "nbconvert_exporter": "python",
   "pygments_lexer": "ipython3",
   "version": "3.9.13"
  }
 },
 "nbformat": 4,
 "nbformat_minor": 2
}
